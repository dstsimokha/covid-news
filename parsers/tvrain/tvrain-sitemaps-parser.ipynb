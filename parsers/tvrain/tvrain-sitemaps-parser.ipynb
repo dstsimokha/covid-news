{
 "cells": [
  {
   "cell_type": "code",
   "execution_count": 1,
   "metadata": {},
   "outputs": [],
   "source": [
    "import pandas as pd\n",
    "import re\n",
    "import json\n",
    "import xml.etree.ElementTree as xet\n",
    "import requests as req\n",
    "import time\n",
    "import glob\n",
    "import csv\n",
    "import regex\n",
    "import tqdm\n",
    "import pytz\n",
    "import io\n",
    "import numpy as np\n",
    "from bs4 import BeautifulSoup"
   ]
  },
  {
   "cell_type": "code",
   "execution_count": 2,
   "metadata": {},
   "outputs": [],
   "source": [
    "def parse_sitemap(fn):\n",
    "    #page = io.StringIO(req.get(fn).text)\n",
    "\n",
    "    xml = xet.parse(fn)\n",
    "    xml_root = xml.getroot()\n",
    "    news_list = []\n",
    "    \n",
    "    for news in xml_root:\n",
    "\n",
    "        url = news.find('{http://www.sitemaps.org/schemas/sitemap/0.9}loc').text\n",
    "        lastmod = news.find('{http://www.sitemaps.org/schemas/sitemap/0.9}lastmod')\n",
    "        if hasattr(lastmod, 'text'):\n",
    "            lastmod = lastmod.text\n",
    "        else:\n",
    "            lastmod = ''\n",
    "        \n",
    "        news_list.append(dict(zip(['url', 'lastmod'], [url, lastmod])))\n",
    "\n",
    "    return news_list"
   ]
  },
  {
   "cell_type": "code",
   "execution_count": 3,
   "metadata": {},
   "outputs": [
    {
     "data": {
      "text/plain": [
       "[{'url': 'https://tvrain.ru/sitemap/xml/story_part0.xml',\n",
       "  'lastmod': '2020-12-13'},\n",
       " {'url': 'https://tvrain.ru/sitemap/xml/articles_part0.xml',\n",
       "  'lastmod': '2020-12-13'},\n",
       " {'url': 'https://tvrain.ru/sitemap/xml/tags_part0.xml',\n",
       "  'lastmod': '2020-12-13'},\n",
       " {'url': 'https://tvrain.ru/sitemap/xml/tree_part0.xml',\n",
       "  'lastmod': '2020-12-13'},\n",
       " {'url': 'https://tvrain.ru/sitemap/xml/teleshow_part0.xml',\n",
       "  'lastmod': '2020-12-13'}]"
      ]
     },
     "execution_count": 3,
     "metadata": {},
     "output_type": "execute_result"
    }
   ],
   "source": [
    "sitemap_urls = parse_sitemap(io.StringIO(req.get('https://tvrain.ru/sitemap/xml/sitemap.xml').content.decode()))\n",
    "sitemap_urls[:5]"
   ]
  },
  {
   "cell_type": "code",
   "execution_count": 4,
   "metadata": {},
   "outputs": [
    {
     "name": "stderr",
     "output_type": "stream",
     "text": [
      "<ipython-input-4-5701dbbfbec7>:3: TqdmDeprecationWarning: This function will be removed in tqdm==5.0.0\n",
      "Please use `tqdm.notebook.tqdm` instead of `tqdm.tqdm_notebook`\n",
      "  for fn in tqdm.tqdm_notebook(sitemap_urls):\n"
     ]
    },
    {
     "data": {
      "application/vnd.jupyter.widget-view+json": {
       "model_id": "cfd649b8a1e044a9b3032903429015ee",
       "version_major": 2,
       "version_minor": 0
      },
      "text/plain": [
       "HBox(children=(HTML(value=''), FloatProgress(value=0.0, max=6.0), HTML(value='')))"
      ]
     },
     "metadata": {},
     "output_type": "display_data"
    },
    {
     "name": "stdout",
     "output_type": "stream",
     "text": [
      "\n"
     ]
    }
   ],
   "source": [
    "news_db = []\n",
    "\n",
    "for fn in tqdm.tqdm_notebook(sitemap_urls):\n",
    "    s1 = time.time()\n",
    "\n",
    "    try:\n",
    "        text = io.StringIO(req.get(fn['url']).content.decode())\n",
    "        news = parse_sitemap(text)\n",
    "    except Exception as e:\n",
    "        print(e)\n",
    "        continue\n",
    "        \n",
    "    news_db += news\n",
    "    s2 = time.time()\n",
    "    time.sleep(max(1 - s2 + s1, 0))"
   ]
  },
  {
   "cell_type": "code",
   "execution_count": 5,
   "metadata": {},
   "outputs": [
    {
     "data": {
      "text/html": [
       "<div>\n",
       "<style scoped>\n",
       "    .dataframe tbody tr th:only-of-type {\n",
       "        vertical-align: middle;\n",
       "    }\n",
       "\n",
       "    .dataframe tbody tr th {\n",
       "        vertical-align: top;\n",
       "    }\n",
       "\n",
       "    .dataframe thead th {\n",
       "        text-align: right;\n",
       "    }\n",
       "</style>\n",
       "<table border=\"1\" class=\"dataframe\">\n",
       "  <thead>\n",
       "    <tr style=\"text-align: right;\">\n",
       "      <th></th>\n",
       "      <th>url</th>\n",
       "      <th>lastmod</th>\n",
       "    </tr>\n",
       "  </thead>\n",
       "  <tbody>\n",
       "    <tr>\n",
       "      <th>0</th>\n",
       "      <td>https://tvrain.ru/story/delo_pussy_riot/</td>\n",
       "      <td>2020-11-24 14:55:45+00:00</td>\n",
       "    </tr>\n",
       "    <tr>\n",
       "      <th>1</th>\n",
       "      <td>https://tvrain.ru/story/bolotnoe_delo/</td>\n",
       "      <td>2020-11-10 10:56:25+00:00</td>\n",
       "    </tr>\n",
       "    <tr>\n",
       "      <th>2</th>\n",
       "      <td>https://tvrain.ru/story/situatsija_v_ukraine/</td>\n",
       "      <td>2020-11-05 13:47:14+00:00</td>\n",
       "    </tr>\n",
       "    <tr>\n",
       "      <th>3</th>\n",
       "      <td>https://tvrain.ru/story/prisoedinenie_kryma_k_...</td>\n",
       "      <td>2020-11-21 18:06:32+00:00</td>\n",
       "    </tr>\n",
       "    <tr>\n",
       "      <th>4</th>\n",
       "      <td>https://tvrain.ru/story/ukrainskij_krizis/</td>\n",
       "      <td>2020-11-05 13:47:14+00:00</td>\n",
       "    </tr>\n",
       "  </tbody>\n",
       "</table>\n",
       "</div>"
      ],
      "text/plain": [
       "                                                 url                   lastmod\n",
       "0           https://tvrain.ru/story/delo_pussy_riot/ 2020-11-24 14:55:45+00:00\n",
       "1             https://tvrain.ru/story/bolotnoe_delo/ 2020-11-10 10:56:25+00:00\n",
       "2      https://tvrain.ru/story/situatsija_v_ukraine/ 2020-11-05 13:47:14+00:00\n",
       "3  https://tvrain.ru/story/prisoedinenie_kryma_k_... 2020-11-21 18:06:32+00:00\n",
       "4         https://tvrain.ru/story/ukrainskij_krizis/ 2020-11-05 13:47:14+00:00"
      ]
     },
     "execution_count": 5,
     "metadata": {},
     "output_type": "execute_result"
    }
   ],
   "source": [
    "df = pd.DataFrame(news_db)\n",
    "df['lastmod'] = pd.to_datetime(df['lastmod'], format='%Y-%m-%dT%H:%M:%S', utc=True)\n",
    "df.head()"
   ]
  },
  {
   "cell_type": "code",
   "execution_count": 6,
   "metadata": {},
   "outputs": [
    {
     "data": {
      "text/plain": [
       "(4049, 2)"
      ]
     },
     "execution_count": 6,
     "metadata": {},
     "output_type": "execute_result"
    }
   ],
   "source": [
    "df[(df.lastmod >= '2019-11-01')].to_json('news_tvrain.json', date_unit='s', date_format='iso')\n",
    "df[(df.lastmod >= '2019-11-01')].shape"
   ]
  },
  {
   "cell_type": "markdown",
   "metadata": {},
   "source": [
    "# Parsing"
   ]
  },
  {
   "cell_type": "code",
   "execution_count": 16,
   "metadata": {},
   "outputs": [
    {
     "data": {
      "text/html": [
       "<div>\n",
       "<style scoped>\n",
       "    .dataframe tbody tr th:only-of-type {\n",
       "        vertical-align: middle;\n",
       "    }\n",
       "\n",
       "    .dataframe tbody tr th {\n",
       "        vertical-align: top;\n",
       "    }\n",
       "\n",
       "    .dataframe thead th {\n",
       "        text-align: right;\n",
       "    }\n",
       "</style>\n",
       "<table border=\"1\" class=\"dataframe\">\n",
       "  <thead>\n",
       "    <tr style=\"text-align: right;\">\n",
       "      <th></th>\n",
       "      <th>lastmod</th>\n",
       "      <th>url</th>\n",
       "      <th>downloaded</th>\n",
       "    </tr>\n",
       "  </thead>\n",
       "  <tbody>\n",
       "    <tr>\n",
       "      <th>0</th>\n",
       "      <td>1529686680000</td>\n",
       "      <td>https://russian.rt.com/sport/article/527234-br...</td>\n",
       "      <td>False</td>\n",
       "    </tr>\n",
       "    <tr>\n",
       "      <th>1</th>\n",
       "      <td>1529662620000</td>\n",
       "      <td>https://russian.rt.com/sport/news/526949-smoln...</td>\n",
       "      <td>False</td>\n",
       "    </tr>\n",
       "    <tr>\n",
       "      <th>10</th>\n",
       "      <td>1529669520000</td>\n",
       "      <td>https://russian.rt.com/world/news/527000-smi-k...</td>\n",
       "      <td>False</td>\n",
       "    </tr>\n",
       "    <tr>\n",
       "      <th>100</th>\n",
       "      <td>1529701260000</td>\n",
       "      <td>https://russian.rt.com/sport/article/527375-it...</td>\n",
       "      <td>False</td>\n",
       "    </tr>\n",
       "    <tr>\n",
       "      <th>1000</th>\n",
       "      <td>1529982780000</td>\n",
       "      <td>https://russian.rt.com/world/news/529049-pompe...</td>\n",
       "      <td>False</td>\n",
       "    </tr>\n",
       "  </tbody>\n",
       "</table>\n",
       "</div>"
      ],
      "text/plain": [
       "            lastmod                                                url  \\\n",
       "0     1529686680000  https://russian.rt.com/sport/article/527234-br...   \n",
       "1     1529662620000  https://russian.rt.com/sport/news/526949-smoln...   \n",
       "10    1529669520000  https://russian.rt.com/world/news/527000-smi-k...   \n",
       "100   1529701260000  https://russian.rt.com/sport/article/527375-it...   \n",
       "1000  1529982780000  https://russian.rt.com/world/news/529049-pompe...   \n",
       "\n",
       "      downloaded  \n",
       "0          False  \n",
       "1          False  \n",
       "10         False  \n",
       "100        False  \n",
       "1000       False  "
      ]
     },
     "execution_count": 16,
     "metadata": {},
     "output_type": "execute_result"
    }
   ],
   "source": [
    "df = pd.read_json('db/news_tvrain.json')\n",
    "df.head()"
   ]
  },
  {
   "cell_type": "code",
   "execution_count": 20,
   "metadata": {},
   "outputs": [],
   "source": [
    "def parse_rain_news(text):\n",
    "    soup = BeautifulSoup(text, features='lxml')\n",
    "    \n",
    "    news_text = ''\n",
    "    lead = soup.find(name='div', attrs={'class': 'document-lead'})\n",
    "    \n",
    "    if lead:\n",
    "        lead_ps = lead.find_all(name='p')\n",
    "        news_text += \" \".join([lead_p.get_text(\" \", strip=True) for lead_p in lead_ps])\n",
    "        \n",
    "    article = soup.find(name=\"div\", attrs={'class': \"article-full__text\"})\n",
    "\n",
    "    if article:\n",
    "        article_ps = article.find_all(name='p')\n",
    "        news_text += \" \".join([article_p.get_text(\" \", strip=True) for article_p in article_ps])\n",
    "        news_text = re.sub(r'[\\n\\r]+', ' ', news_text).replace(u'\\xa0', u' ')\n",
    "    else:\n",
    "        news_text = ''\n",
    "\n",
    "    tags_elem = soup.find(name=\"meta\", attrs={'name': \"keywords\"})\n",
    "    tags = re.sub(r'[\\n\\r]+', ' ', tags_elem.get('content')).replace(u'\\xa0', u' ') if tags_elem else ''\n",
    "    \n",
    "    description_elem = soup.find(name=\"meta\", attrs={'name': \"description\"})\n",
    "    description = re.sub(r'[\\n\\r]+', ' ', description_elem.get('content')).replace(u'\\xa0', u' ') if description_elem else ''\n",
    "    \n",
    "    return {'news_text': news_text, 'tags': tags, 'description': description}"
   ]
  },
  {
   "cell_type": "code",
   "execution_count": 21,
   "metadata": {},
   "outputs": [
    {
     "data": {
      "text/plain": [
       "{'news_text': 'Следственный комитет задержал восьмого подозреваемого по делу об убийстве бывшего спецназовца ГРУ Никиты Белянкина. Об этом сообщается на сайте СК.Сейчас с ним проводятся следственные действия. Имя задержанного не сообщается. В СК также сообщили, что остальные семь фигурантов дела арестованы. Бывший спецназовец ГРУ Никита Белянкин, участвовавший в боевых действий в Сирии, был убит 2 июня в деревне Путилково Красногорского района Подмосковья. Белянкина ударили ножом в грудь после того, как он заступился за двух мужчин, которых избивали несколько человек. Заведено уголовное дело об убийстве. По данным СМИ, всего в драке участвовали десять человек. ',\n",
       " 'tags': 'телеканал Дождь, дождь, официальный сайт, новости, информация, независимое тв, прямой эфир, смотреть видео, эфир, онлайн, видео онлайн, программы канала, ведущие дождя, архив, Синдеева, Наталья Синдеева, Михаил Зыгарь, программа передач',\n",
       " 'description': 'Следственный комитет задержал восьмого подозреваемого по делу об убийстве бывшего спецназовца ГРУ Никиты Белянкина. Об этом сообщается на сайте СК.&nbsp;. Телеканал Дождь: новости, видео, эфир, онлайн, архив, программа передач.'}"
      ]
     },
     "execution_count": 21,
     "metadata": {},
     "output_type": "execute_result"
    }
   ],
   "source": [
    "parse_rain_news(req.get('https://tvrain.ru/news/po_delu_ob_ubijstve_spetsnazovtsa_gru_zaderzhali_vosmogo_podozrevaemogo-487272/').text)"
   ]
  }
 ],
 "metadata": {
  "kernelspec": {
   "display_name": "Python 3",
   "language": "python",
   "name": "python3"
  },
  "language_info": {
   "codemirror_mode": {
    "name": "ipython",
    "version": 3
   },
   "file_extension": ".py",
   "mimetype": "text/x-python",
   "name": "python",
   "nbconvert_exporter": "python",
   "pygments_lexer": "ipython3",
   "version": "3.9.0"
  }
 },
 "nbformat": 4,
 "nbformat_minor": 4
}
