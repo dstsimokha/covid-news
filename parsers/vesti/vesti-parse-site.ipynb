{
 "cells": [
  {
   "cell_type": "code",
   "execution_count": 1,
   "metadata": {},
   "outputs": [],
   "source": [
    "import pandas as pd\n",
    "import re\n",
    "import json\n",
    "import xml.etree.ElementTree as xet\n",
    "import requests as req\n",
    "import time\n",
    "import glob\n",
    "from bs4 import BeautifulSoup"
   ]
  },
  {
   "cell_type": "code",
   "execution_count": 34,
   "metadata": {},
   "outputs": [],
   "source": [
    "df = pd.read_json('db/news_vesti_db.json')"
   ]
  },
  {
   "cell_type": "code",
   "execution_count": 21,
   "metadata": {},
   "outputs": [],
   "source": [
    "resp = req.get('https://www.vesti.ru/doc.html?id=2967578')\n",
    "text = resp.text"
   ]
  },
  {
   "cell_type": "code",
   "execution_count": 29,
   "metadata": {},
   "outputs": [],
   "source": [
    "def parse_vesti_news(text):\n",
    "    soup = BeautifulSoup(text)\n",
    "    news_text_list = soup.find_all(name=\"div\", attrs={'class': \"js-mediator-article\"})\n",
    "    \n",
    "    if news_text_list:\n",
    "        news_text = ''\n",
    "        for news in news_text_list:\n",
    "            news_text += news.get_text(strip=True)\n",
    "    else:\n",
    "        news_text = ''\n",
    "    \n",
    "    tags_elem = soup.find(name=\"meta\", attrs={'name': \"keywords\"})\n",
    "    tags = tags_elem.get('content') if tags_elem else ''\n",
    "    \n",
    "    description_elem = soup.find(name=\"meta\", attrs={'name': \"description\"})\n",
    "    description = description_elem.get('content') if description_elem else ''\n",
    "\n",
    "    return news_text, tags, description"
   ]
  },
  {
   "cell_type": "code",
   "execution_count": null,
   "metadata": {},
   "outputs": [],
   "source": [
    "for i, item in enumerate(df.iterrows()):\n",
    "\n",
    "    if not df.loc[item[0], 'downloaded']:\n",
    "        \n",
    "        try:\n",
    "            # Processing row from db\n",
    "            url = item[1]['url']\n",
    "            lastmod = item[1]['lastmod']\n",
    "            csv_row = dict(zip(['news_id', 'url', 'lastmod'], [item[0], url, lastmod]))\n",
    "\n",
    "            # Downloading file\n",
    "            start = time.time()\n",
    "            resp = req.get(url)\n",
    "            if resp.status_code == 200:\n",
    "                csv_row['news_text'], csv_row['tags'], csv_row['description'] = parse_vesti_news(resp.text)\n",
    "\n",
    "            # Saving row to csv file\n",
    "            with open('db/news_vesti.csv', 'a') as csv_file:\n",
    "                writer = csv.DictWriter(csv_file, csv_row.keys())\n",
    "                writer.writerow(csv_row)\n",
    "\n",
    "            # News is written, logging it to DF\n",
    "            df.loc[item[0], 'downloaded'] = True\n",
    "            \n",
    "            # Logging to console\n",
    "            if i % 100 == 0 and i > 0:\n",
    "                df.to_json('db/news_vesti_db.json')\n",
    "                datetime = time.strftime('%Y-%m-%d %H:%M')\n",
    "                print(datetime, ':', i, 'news downloaded,', int((df.shape[0] - i) * 1.1 / 60 / 60), 'hours remaining')\n",
    "\n",
    "            # Calculating wait time (must be 1 sec minimum)\n",
    "            end = time.time()\n",
    "            wait = 1.1 - (end - start)\n",
    "            time.sleep(wait)\n",
    "            \n",
    "        except:\n",
    "            df.to_json('db/news_vesti_db.json')"
   ]
  }
 ],
 "metadata": {
  "kernelspec": {
   "display_name": "Python 3",
   "language": "python",
   "name": "python3"
  },
  "language_info": {
   "codemirror_mode": {
    "name": "ipython",
    "version": 3
   },
   "file_extension": ".py",
   "mimetype": "text/x-python",
   "name": "python",
   "nbconvert_exporter": "python",
   "pygments_lexer": "ipython3",
   "version": "3.7.3"
  }
 },
 "nbformat": 4,
 "nbformat_minor": 2
}
