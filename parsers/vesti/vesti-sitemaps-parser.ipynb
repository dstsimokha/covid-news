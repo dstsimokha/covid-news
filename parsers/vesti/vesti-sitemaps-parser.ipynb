{
 "cells": [
  {
   "cell_type": "code",
   "execution_count": 1,
   "metadata": {},
   "outputs": [],
   "source": [
    "import pandas as pd\n",
    "import re\n",
    "import json\n",
    "import xml.etree.ElementTree as xet\n",
    "import requests as req\n",
    "import time\n",
    "import glob\n",
    "import csv\n",
    "import regex\n",
    "import tqdm\n",
    "import pytz\n",
    "import io\n",
    "import numpy as np\n",
    "from bs4 import BeautifulSoup"
   ]
  },
  {
   "cell_type": "code",
   "execution_count": 2,
   "metadata": {},
   "outputs": [],
   "source": [
    "def parse_sitemap(fn):\n",
    "\n",
    "    xml = xet.parse(fn)\n",
    "    xml_root = xml.getroot()\n",
    "    news_list = []\n",
    "    \n",
    "    for news in xml_root:\n",
    "        try:\n",
    "            result = {}\n",
    "            result['url'] = news.find('{http://www.sitemaps.org/schemas/sitemap/0.9}loc').text\n",
    "            lastmod = news.find('{http://www.sitemaps.org/schemas/sitemap/0.9}lastmod')\n",
    "            if lastmod is not None:\n",
    "                result['lastmod'] = lastmod.text\n",
    "\n",
    "            #title = news.find('{http://www.sitemaps.org/schemas/sitemap/0.9}news:title').text\n",
    "            #keywords = news.find('{http://www.sitemaps.org/schemas/sitemap/0.9}news:keywords').text\n",
    "            #news_list.append(dict(zip(['url', 'lastmod'], [url, lastmod])))\n",
    "            news_list.append(result)\n",
    "        except:\n",
    "            continue\n",
    "\n",
    "    return news_list"
   ]
  },
  {
   "cell_type": "code",
   "execution_count": 3,
   "metadata": {},
   "outputs": [
    {
     "data": {
      "text/plain": [
       "32"
      ]
     },
     "execution_count": 3,
     "metadata": {},
     "output_type": "execute_result"
    }
   ],
   "source": [
    "sitemaps = parse_sitemap(io.StringIO(req.get('https://www.vesti.ru/sitemap.xml').content.decode()))\n",
    "len(sitemaps)"
   ]
  },
  {
   "cell_type": "code",
   "execution_count": 4,
   "metadata": {},
   "outputs": [
    {
     "name": "stderr",
     "output_type": "stream",
     "text": [
      "<ipython-input-4-1b27f3d996d8>:3: TqdmDeprecationWarning: This function will be removed in tqdm==5.0.0\n",
      "Please use `tqdm.notebook.tqdm` instead of `tqdm.tqdm_notebook`\n",
      "  for fn in tqdm.tqdm_notebook(sitemaps):\n"
     ]
    },
    {
     "data": {
      "application/vnd.jupyter.widget-view+json": {
       "model_id": "63d8618af12346eda01db8d3ff8ed1b8",
       "version_major": 2,
       "version_minor": 0
      },
      "text/plain": [
       "HBox(children=(HTML(value=''), FloatProgress(value=0.0, max=32.0), HTML(value='')))"
      ]
     },
     "metadata": {},
     "output_type": "display_data"
    },
    {
     "name": "stdout",
     "output_type": "stream",
     "text": [
      "\n"
     ]
    }
   ],
   "source": [
    "news_db = []\n",
    "\n",
    "for fn in tqdm.tqdm_notebook(sitemaps):\n",
    "    s1 = time.time()\n",
    "\n",
    "    try:\n",
    "        text = io.StringIO(req.get(fn['url']).content.decode())\n",
    "        news = parse_sitemap(text)\n",
    "    except Exception as e:\n",
    "        print(e)\n",
    "        continue\n",
    "        \n",
    "    news_db += news\n",
    "    s2 = time.time()\n",
    "    time.sleep(max(1 - s2 + s1, 0))"
   ]
  },
  {
   "cell_type": "code",
   "execution_count": 7,
   "metadata": {},
   "outputs": [
    {
     "data": {
      "text/html": [
       "<div>\n",
       "<style scoped>\n",
       "    .dataframe tbody tr th:only-of-type {\n",
       "        vertical-align: middle;\n",
       "    }\n",
       "\n",
       "    .dataframe tbody tr th {\n",
       "        vertical-align: top;\n",
       "    }\n",
       "\n",
       "    .dataframe thead th {\n",
       "        text-align: right;\n",
       "    }\n",
       "</style>\n",
       "<table border=\"1\" class=\"dataframe\">\n",
       "  <thead>\n",
       "    <tr style=\"text-align: right;\">\n",
       "      <th></th>\n",
       "      <th>url</th>\n",
       "      <th>lastmod</th>\n",
       "    </tr>\n",
       "  </thead>\n",
       "  <tbody>\n",
       "    <tr>\n",
       "      <th>0</th>\n",
       "      <td>https://www.vesti.ru/article/2498253</td>\n",
       "      <td>2020-12-13 14:53:59+00:00</td>\n",
       "    </tr>\n",
       "    <tr>\n",
       "      <th>1</th>\n",
       "      <td>https://www.vesti.ru/article/2498252</td>\n",
       "      <td>2020-12-13 14:54:09+00:00</td>\n",
       "    </tr>\n",
       "    <tr>\n",
       "      <th>2</th>\n",
       "      <td>https://www.vesti.ru/article/2498181</td>\n",
       "      <td>2020-12-13 14:48:15+00:00</td>\n",
       "    </tr>\n",
       "    <tr>\n",
       "      <th>3</th>\n",
       "      <td>https://www.vesti.ru/article/2498251</td>\n",
       "      <td>2020-12-13 14:54:53+00:00</td>\n",
       "    </tr>\n",
       "    <tr>\n",
       "      <th>4</th>\n",
       "      <td>https://www.vesti.ru/article/2498235</td>\n",
       "      <td>2020-12-13 14:32:25+00:00</td>\n",
       "    </tr>\n",
       "  </tbody>\n",
       "</table>\n",
       "</div>"
      ],
      "text/plain": [
       "                                    url                   lastmod\n",
       "0  https://www.vesti.ru/article/2498253 2020-12-13 14:53:59+00:00\n",
       "1  https://www.vesti.ru/article/2498252 2020-12-13 14:54:09+00:00\n",
       "2  https://www.vesti.ru/article/2498181 2020-12-13 14:48:15+00:00\n",
       "3  https://www.vesti.ru/article/2498251 2020-12-13 14:54:53+00:00\n",
       "4  https://www.vesti.ru/article/2498235 2020-12-13 14:32:25+00:00"
      ]
     },
     "execution_count": 7,
     "metadata": {},
     "output_type": "execute_result"
    }
   ],
   "source": [
    "df = pd.DataFrame(news_db)\n",
    "df['lastmod'] = pd.to_datetime(df['lastmod'], format='%Y-%m-%dT%H:%M:%S', utc=True)\n",
    "df.head()"
   ]
  },
  {
   "cell_type": "code",
   "execution_count": 8,
   "metadata": {},
   "outputs": [
    {
     "data": {
      "text/plain": [
       "(149642, 2)"
      ]
     },
     "execution_count": 8,
     "metadata": {},
     "output_type": "execute_result"
    }
   ],
   "source": [
    "df[(df.lastmod >= '2019-11-01')].to_json('news_vesti_db.json', date_unit='s', date_format='iso')\n",
    "df[(df.lastmod >= '2019-11-01')].shape"
   ]
  },
  {
   "cell_type": "code",
   "execution_count": null,
   "metadata": {},
   "outputs": [],
   "source": []
  }
 ],
 "metadata": {
  "kernelspec": {
   "display_name": "Python 3",
   "language": "python",
   "name": "python3"
  },
  "language_info": {
   "codemirror_mode": {
    "name": "ipython",
    "version": 3
   },
   "file_extension": ".py",
   "mimetype": "text/x-python",
   "name": "python",
   "nbconvert_exporter": "python",
   "pygments_lexer": "ipython3",
   "version": "3.9.0"
  }
 },
 "nbformat": 4,
 "nbformat_minor": 4
}
