{
 "cells": [
  {
   "cell_type": "code",
   "execution_count": 1,
   "metadata": {},
   "outputs": [],
   "source": [
    "import pandas as pd\n",
    "import re\n",
    "import json\n",
    "import xml.etree.ElementTree as xet\n",
    "import requests as req\n",
    "import time\n",
    "import glob\n",
    "import csv\n",
    "import regex\n",
    "import tqdm\n",
    "import pytz\n",
    "import numpy as np\n",
    "import gzip\n",
    "import io\n",
    "from bs4 import BeautifulSoup"
   ]
  },
  {
   "cell_type": "code",
   "execution_count": 2,
   "metadata": {},
   "outputs": [],
   "source": [
    "def parse_sitemap(fn):\n",
    "\n",
    "    xml = xet.parse(fn)\n",
    "    xml_root = xml.getroot()\n",
    "    news_list = []\n",
    "    \n",
    "    for news in xml_root:\n",
    "        try:\n",
    "            result = {}\n",
    "            result['url'] = news.find('{http://www.sitemaps.org/schemas/sitemap/0.9}loc').text\n",
    "            lastmod = news.find('{http://www.sitemaps.org/schemas/sitemap/0.9}lastmod')\n",
    "            if lastmod is not None:\n",
    "                result['lastmod'] = lastmod.text\n",
    "\n",
    "            #title = news.find('{http://www.sitemaps.org/schemas/sitemap/0.9}news:title').text\n",
    "            #keywords = news.find('{http://www.sitemaps.org/schemas/sitemap/0.9}news:keywords').text\n",
    "            #news_list.append(dict(zip(['url', 'lastmod'], [url, lastmod])))\n",
    "            news_list.append(result)\n",
    "        except:\n",
    "            continue\n",
    "\n",
    "    return news_list"
   ]
  },
  {
   "cell_type": "code",
   "execution_count": 3,
   "metadata": {},
   "outputs": [
    {
     "data": {
      "text/plain": [
       "[{'url': 'https://content.novayagazeta.ru/sitemap1.xml.gz',\n",
       "  'lastmod': '2018-07-31T05:00:42+03:00'},\n",
       " {'url': 'https://content.novayagazeta.ru/sitemap2.xml.gz',\n",
       "  'lastmod': '2018-07-31T05:00:43+03:00'},\n",
       " {'url': 'https://content.novayagazeta.ru/sitemap3.xml.gz',\n",
       "  'lastmod': '2018-07-31T05:01:04+03:00'},\n",
       " {'url': 'https://content.novayagazeta.ru/sitemap4.xml.gz',\n",
       "  'lastmod': '2018-07-31T05:01:33+03:00'},\n",
       " {'url': 'https://content.novayagazeta.ru/sitemap5.xml.gz',\n",
       "  'lastmod': '2018-07-31T05:01:50+03:00'}]"
      ]
     },
     "execution_count": 3,
     "metadata": {},
     "output_type": "execute_result"
    }
   ],
   "source": [
    "with gzip.open(io.BytesIO(req.get('https://content.novayagazeta.ru/sitemap.xml.gz').content)) as f:\n",
    "    sitemap_urls = parse_sitemap(io.StringIO(f.read().decode()))\n",
    "\n",
    "sitemap_urls[:5]"
   ]
  },
  {
   "cell_type": "code",
   "execution_count": 4,
   "metadata": {},
   "outputs": [
    {
     "name": "stderr",
     "output_type": "stream",
     "text": [
      "<ipython-input-4-eead7f749a4c>:3: TqdmDeprecationWarning: This function will be removed in tqdm==5.0.0\n",
      "Please use `tqdm.notebook.tqdm` instead of `tqdm.tqdm_notebook`\n",
      "  for fn in tqdm.tqdm_notebook(sitemap_urls):\n"
     ]
    },
    {
     "data": {
      "application/vnd.jupyter.widget-view+json": {
       "model_id": "2cb498c80e434b558144c7979d08bd9a",
       "version_major": 2,
       "version_minor": 0
      },
      "text/plain": [
       "HBox(children=(HTML(value=''), FloatProgress(value=0.0, max=5.0), HTML(value='')))"
      ]
     },
     "metadata": {},
     "output_type": "display_data"
    },
    {
     "name": "stdout",
     "output_type": "stream",
     "text": [
      "\n"
     ]
    }
   ],
   "source": [
    "news_db = []\n",
    "\n",
    "for fn in tqdm.tqdm_notebook(sitemap_urls):\n",
    "    try:\n",
    "        with gzip.open(io.BytesIO(req.get(fn['url']).content)) as f:\n",
    "            sitemap = io.StringIO(f.read().decode())\n",
    "        news = parse_sitemap(sitemap)\n",
    "\n",
    "    except Exception as e:\n",
    "        print(e)\n",
    "        continue\n",
    "\n",
    "    news_db = news_db + news"
   ]
  },
  {
   "cell_type": "code",
   "execution_count": 11,
   "metadata": {},
   "outputs": [
    {
     "data": {
      "text/html": [
       "<div>\n",
       "<style scoped>\n",
       "    .dataframe tbody tr th:only-of-type {\n",
       "        vertical-align: middle;\n",
       "    }\n",
       "\n",
       "    .dataframe tbody tr th {\n",
       "        vertical-align: top;\n",
       "    }\n",
       "\n",
       "    .dataframe thead th {\n",
       "        text-align: right;\n",
       "    }\n",
       "</style>\n",
       "<table border=\"1\" class=\"dataframe\">\n",
       "  <thead>\n",
       "    <tr style=\"text-align: right;\">\n",
       "      <th></th>\n",
       "      <th>url</th>\n",
       "      <th>lastmod</th>\n",
       "    </tr>\n",
       "  </thead>\n",
       "  <tbody>\n",
       "    <tr>\n",
       "      <th>1</th>\n",
       "      <td>https://www.novayagazeta.ru/news/2010/01/02/1-...</td>\n",
       "      <td>2010-01-02</td>\n",
       "    </tr>\n",
       "    <tr>\n",
       "      <th>2</th>\n",
       "      <td>https://www.novayagazeta.ru/news/2010/01/02/2-...</td>\n",
       "      <td>2010-01-02</td>\n",
       "    </tr>\n",
       "    <tr>\n",
       "      <th>3</th>\n",
       "      <td>https://www.novayagazeta.ru/news/2010/01/02/3-...</td>\n",
       "      <td>2010-01-02</td>\n",
       "    </tr>\n",
       "    <tr>\n",
       "      <th>4</th>\n",
       "      <td>https://www.novayagazeta.ru/news/2010/01/04/4-...</td>\n",
       "      <td>2010-01-04</td>\n",
       "    </tr>\n",
       "    <tr>\n",
       "      <th>5</th>\n",
       "      <td>https://www.novayagazeta.ru/news/2010/01/04/5-...</td>\n",
       "      <td>2010-01-04</td>\n",
       "    </tr>\n",
       "  </tbody>\n",
       "</table>\n",
       "</div>"
      ],
      "text/plain": [
       "                                                 url    lastmod\n",
       "1  https://www.novayagazeta.ru/news/2010/01/02/1-... 2010-01-02\n",
       "2  https://www.novayagazeta.ru/news/2010/01/02/2-... 2010-01-02\n",
       "3  https://www.novayagazeta.ru/news/2010/01/02/3-... 2010-01-02\n",
       "4  https://www.novayagazeta.ru/news/2010/01/04/4-... 2010-01-04\n",
       "5  https://www.novayagazeta.ru/news/2010/01/04/5-... 2010-01-04"
      ]
     },
     "execution_count": 11,
     "metadata": {},
     "output_type": "execute_result"
    }
   ],
   "source": [
    "df = pd.DataFrame(news_db).iloc[1:]\n",
    "df['lastmod'] = df['url'].str.extract('(\\d+\\/\\d+\\/\\d+)')\n",
    "df = df.dropna()\n",
    "df['lastmod'] = pd.to_datetime(df['lastmod'])\n",
    "df.head()"
   ]
  },
  {
   "cell_type": "code",
   "execution_count": 13,
   "metadata": {},
   "outputs": [
    {
     "data": {
      "text/plain": [
       "(9726, 2)"
      ]
     },
     "execution_count": 13,
     "metadata": {},
     "output_type": "execute_result"
    }
   ],
   "source": [
    "df[(df.lastmod >= '2019-11-01')].to_json('news_novaya.json', date_unit=\"s\", date_format=\"iso\")\n",
    "df[(df.lastmod >= '2019-11-01')].shape"
   ]
  },
  {
   "cell_type": "markdown",
   "metadata": {},
   "source": [
    "# Parsing"
   ]
  },
  {
   "cell_type": "code",
   "execution_count": 19,
   "metadata": {},
   "outputs": [],
   "source": [
    "def parse_news(text):\n",
    "    soup = BeautifulSoup(text)\n",
    "    news_page = soup.find(name=\"div\", attrs={'id': \"selection-range-available\"})\n",
    "\n",
    "    if news_page:\n",
    "        news_text = ''\n",
    "        news_elems = news_page.find_all(name=['p', 'dl'])\n",
    "        for news_elem in news_elems:\n",
    "            news_text += news_elem.get_text(\" \", strip=True)\n",
    "        news_text = re.sub(r'[\\n\\r]+', ' ', news_text).replace(u'\\xa0', u' ')\n",
    "    else:\n",
    "        news_text = ''\n",
    "\n",
    "    description_elem = soup.find(name=\"meta\", attrs={'name': \"description\"})\n",
    "    description = re.sub(r'[\\n\\r]+', ' ', description_elem.get('content')).replace(u'\\xa0', u' ') if description_elem else ''\n",
    "    \n",
    "    tags_elem = soup.find(name=\"meta\", attrs={'name': \"keywords\"})\n",
    "    tags = re.sub(r'[\\n\\r]+', ' ', tags_elem.get('content')).replace(u'\\xa0', u' ') if tags_elem else ''\n",
    "    return news_text, tags, description"
   ]
  },
  {
   "cell_type": "code",
   "execution_count": 20,
   "metadata": {},
   "outputs": [
    {
     "data": {
      "text/plain": [
       "('Впервые с 2015 года курс биткоина начал новый год со снижения, подсчитал Bloomberg. Сейчас он составляет 13 167 долларов, свидетельствуют данные сервиса Coindesk.В первый день 2018 года биткоин, по данным сайта, упал на 4,28%, а в 2015 году криптовалюта потеряла 1,855% стоимости.В первый день прошлого года криптовалюта выросла на 3,58%. Затем биткоин сохранил рост, чем вызвал мировую лихорадку вокруг криптовалют, отмечает Bloomberg.В конце марта 2017 года биткоин стоил около тысячи долларов. Валюта стала стремительно расти в начале апреля, самый значительный рост пришелся на вторую половину ноября.В середине декабря курс биткоина впервые превысил порог в 20 тысяч долларов, однако потом резко упал на 15%.22 декабря криптовалюта потеряла 20% стоимости за сутки: курс биткоина на бирже опустился ниже 14 тысяч долларов. За неделю биткоин потерял в цене около шести тысяч долларов. Bloomberg отмечал, что резкое снижение курса может быть связано с его коррекцией после масштабных денежных вливаний.',\n",
       " 'новая газета, расследование, коррупция, откат, быков, латынина, муратов, политковская, путин, кадыров, офшор, панамский архив, море китов, горбачев',\n",
       " 'Впервые с 2015 года курс биткоина начал новый год со снижения, подсчитал Bloomberg. Сейчас он составляет 13 167 долларов, свидетельствуют данные сервиса Coindesk. В первый день 2018 года биткоин, по данным сайта, упал на 4,28%, а в 2015 году криптовалюта потеряла 1,855% стоимости. В первый...')"
      ]
     },
     "execution_count": 20,
     "metadata": {},
     "output_type": "execute_result"
    }
   ],
   "source": [
    "parse_news(req.get('https://www.novayagazeta.ru/news/2018/01/02/138378-bitkoin-startoval-s-padeniya-vpervye-za-neskolko-let').text)"
   ]
  },
  {
   "cell_type": "code",
   "execution_count": 10,
   "metadata": {},
   "outputs": [],
   "source": [
    "for i, item in enumerate(df.iterrows()):\n",
    "\n",
    "    if not df.loc[item[0], 'downloaded']:\n",
    "        \n",
    "        try:\n",
    "            # Processing row from db\n",
    "            url = item[1]['url']\n",
    "            lastmod = item[1]['lastmod']\n",
    "            csv_row = dict(zip(['news_id', 'url', 'lastmod'], [item[0], url, lastmod]))\n",
    "\n",
    "            # Downloading file\n",
    "            start = time.time()\n",
    "            resp = req.get(url)\n",
    "            if resp.status_code == 200:\n",
    "                csv_row['news_text'], csv_row['tags'], csv_row['description'] = parse_rbk_news(resp.text)\n",
    "\n",
    "            # Saving row to csv file\n",
    "            with open('db/news_rbk_part.csv', 'a') as csv_file:\n",
    "                writer = csv.DictWriter(csv_file, csv_row.keys())\n",
    "                writer.writerow(csv_row)\n",
    "\n",
    "            # News is written, logging it to DF\n",
    "            #df.loc[item[0], 'downloaded'] = True\n",
    "            \n",
    "            # Logging to console\n",
    "            if i % 1000 == 0 and i > 0:\n",
    "                #df.to_json('db/news_rbk_part.json')\n",
    "                pass\n",
    "                \n",
    "            if i % 100 == 0 and i > 0:\n",
    "                datetime = time.strftime('%Y-%m-%d %H:%M')\n",
    "                print(datetime, ':', i, 'news downloaded,', int((df.shape[0]-i) * 1.1 / 60 / 60), 'hours remaining')\n",
    "\n",
    "            # Calculating wait time (must be 1 sec minimum)\n",
    "            end = time.time()\n",
    "            wait = max(0, 1.1 - (end - start))\n",
    "            time.sleep(wait)\n",
    "            break\n",
    "        except Exception as e:\n",
    "            #df.to_json('db/news_rbk_part.json')\n",
    "            print(e)\n",
    "            break"
   ]
  },
  {
   "cell_type": "code",
   "execution_count": null,
   "metadata": {},
   "outputs": [],
   "source": []
  }
 ],
 "metadata": {
  "kernelspec": {
   "display_name": "Python 3",
   "language": "python",
   "name": "python3"
  },
  "language_info": {
   "codemirror_mode": {
    "name": "ipython",
    "version": 3
   },
   "file_extension": ".py",
   "mimetype": "text/x-python",
   "name": "python",
   "nbconvert_exporter": "python",
   "pygments_lexer": "ipython3",
   "version": "3.9.0"
  }
 },
 "nbformat": 4,
 "nbformat_minor": 4
}
