{
 "cells": [
  {
   "cell_type": "code",
   "execution_count": 1,
   "metadata": {},
   "outputs": [],
   "source": [
    "import pandas as pd\n",
    "import re\n",
    "import json\n",
    "import xml.etree.ElementTree as xet\n",
    "import requests as req\n",
    "import time\n",
    "import glob\n",
    "import csv\n",
    "import regex\n",
    "import tqdm\n",
    "import pytz\n",
    "import numpy as np\n",
    "import io\n",
    "from bs4 import BeautifulSoup"
   ]
  },
  {
   "cell_type": "code",
   "execution_count": 2,
   "metadata": {},
   "outputs": [],
   "source": [
    "def parse_sitemap(fn):\n",
    "\n",
    "    xml = xet.parse(fn)\n",
    "    xml_root = xml.getroot()\n",
    "    news_list = []\n",
    "    \n",
    "    for news in xml_root:\n",
    "        try:\n",
    "            result = {}\n",
    "            result['url'] = news.find('{http://www.sitemaps.org/schemas/sitemap/0.9}loc').text\n",
    "            lastmod = news.find('{http://www.sitemaps.org/schemas/sitemap/0.9}lastmod')\n",
    "            if lastmod is not None:\n",
    "                result['lastmod'] = lastmod.text\n",
    "\n",
    "            #title = news.find('{http://www.sitemaps.org/schemas/sitemap/0.9}news:title').text\n",
    "            #keywords = news.find('{http://www.sitemaps.org/schemas/sitemap/0.9}news:keywords').text\n",
    "            #news_list.append(dict(zip(['url', 'lastmod'], [url, lastmod])))\n",
    "            news_list.append(result)\n",
    "        except:\n",
    "            continue\n",
    "\n",
    "    return news_list"
   ]
  },
  {
   "cell_type": "code",
   "execution_count": 4,
   "metadata": {},
   "outputs": [],
   "source": [
    "sitemaps = parse_sitemap(io.StringIO(req.get('https://russian.rt.com/sitemap.xml').content.decode()))\n",
    "sitemaps_filtered = []\n",
    "for sitemap in sitemaps:\n",
    "    if re.search(r'2019|2020', sitemap['url']):\n",
    "        sitemaps_filtered.append(sitemap)"
   ]
  },
  {
   "cell_type": "code",
   "execution_count": 5,
   "metadata": {},
   "outputs": [
    {
     "name": "stderr",
     "output_type": "stream",
     "text": [
      "<ipython-input-5-73c316e576b5>:3: TqdmDeprecationWarning: This function will be removed in tqdm==5.0.0\n",
      "Please use `tqdm.notebook.tqdm` instead of `tqdm.tqdm_notebook`\n",
      "  for fn in tqdm.tqdm_notebook(sitemaps_filtered):\n"
     ]
    },
    {
     "data": {
      "application/vnd.jupyter.widget-view+json": {
       "model_id": "10f09018d5c247a99426ceac547ca252",
       "version_major": 2,
       "version_minor": 0
      },
      "text/plain": [
       "HBox(children=(HTML(value=''), FloatProgress(value=0.0, max=5.0), HTML(value='')))"
      ]
     },
     "metadata": {},
     "output_type": "display_data"
    },
    {
     "name": "stdout",
     "output_type": "stream",
     "text": [
      "\n"
     ]
    }
   ],
   "source": [
    "news_db = []\n",
    "\n",
    "for fn in tqdm.tqdm_notebook(sitemaps_filtered):\n",
    "    s1 = time.time()\n",
    "\n",
    "    try:\n",
    "        text = io.StringIO(req.get(fn['url']).content.decode())\n",
    "        news = parse_sitemap(text)\n",
    "    except Exception as e:\n",
    "        print(e)\n",
    "        continue\n",
    "        \n",
    "    news_db += news\n",
    "    s2 = time.time()\n",
    "    time.sleep(max(1 - s2 + s1, 0))"
   ]
  },
  {
   "cell_type": "code",
   "execution_count": 8,
   "metadata": {},
   "outputs": [
    {
     "data": {
      "text/html": [
       "<div>\n",
       "<style scoped>\n",
       "    .dataframe tbody tr th:only-of-type {\n",
       "        vertical-align: middle;\n",
       "    }\n",
       "\n",
       "    .dataframe tbody tr th {\n",
       "        vertical-align: top;\n",
       "    }\n",
       "\n",
       "    .dataframe thead th {\n",
       "        text-align: right;\n",
       "    }\n",
       "</style>\n",
       "<table border=\"1\" class=\"dataframe\">\n",
       "  <thead>\n",
       "    <tr style=\"text-align: right;\">\n",
       "      <th></th>\n",
       "      <th>url</th>\n",
       "      <th>lastmod</th>\n",
       "    </tr>\n",
       "  </thead>\n",
       "  <tbody>\n",
       "    <tr>\n",
       "      <th>0</th>\n",
       "      <td>https://russian.rt.com/tag/alberto-fernandes</td>\n",
       "      <td>2019-10-29 07:52:02+00:00</td>\n",
       "    </tr>\n",
       "    <tr>\n",
       "      <th>1</th>\n",
       "      <td>https://russian.rt.com/tag/aleksandr-bessmertnyh</td>\n",
       "      <td>2019-11-29 13:31:27+00:00</td>\n",
       "    </tr>\n",
       "    <tr>\n",
       "      <th>2</th>\n",
       "      <td>https://russian.rt.com/tag/aleksandr-tretyakov</td>\n",
       "      <td>2019-11-29 13:35:16+00:00</td>\n",
       "    </tr>\n",
       "    <tr>\n",
       "      <th>3</th>\n",
       "      <td>https://russian.rt.com/tag/aleksandra-boikova-...</td>\n",
       "      <td>2019-11-29 13:48:44+00:00</td>\n",
       "    </tr>\n",
       "    <tr>\n",
       "      <th>4</th>\n",
       "      <td>https://russian.rt.com/tag/aleksandra-trusova</td>\n",
       "      <td>2019-09-26 12:17:33+00:00</td>\n",
       "    </tr>\n",
       "  </tbody>\n",
       "</table>\n",
       "</div>"
      ],
      "text/plain": [
       "                                                 url                   lastmod\n",
       "0       https://russian.rt.com/tag/alberto-fernandes 2019-10-29 07:52:02+00:00\n",
       "1   https://russian.rt.com/tag/aleksandr-bessmertnyh 2019-11-29 13:31:27+00:00\n",
       "2     https://russian.rt.com/tag/aleksandr-tretyakov 2019-11-29 13:35:16+00:00\n",
       "3  https://russian.rt.com/tag/aleksandra-boikova-... 2019-11-29 13:48:44+00:00\n",
       "4      https://russian.rt.com/tag/aleksandra-trusova 2019-09-26 12:17:33+00:00"
      ]
     },
     "execution_count": 8,
     "metadata": {},
     "output_type": "execute_result"
    }
   ],
   "source": [
    "df = pd.DataFrame(news_db)\n",
    "df['lastmod'] = pd.to_datetime(df['lastmod'], format='%Y-%m-%dT%H:%M:%S', utc=True)\n",
    "df.head()"
   ]
  },
  {
   "cell_type": "code",
   "execution_count": 9,
   "metadata": {},
   "outputs": [
    {
     "data": {
      "text/plain": [
       "(117247, 2)"
      ]
     },
     "execution_count": 9,
     "metadata": {},
     "output_type": "execute_result"
    }
   ],
   "source": [
    "df[(df.lastmod >= '2019-11-01')].to_json('news_russia_today.json', date_unit='s', date_format='iso')\n",
    "df[(df.lastmod >= '2019-11-01')].shape\n",
    "#df[(df.lastmod >= '2019-11-01') & (df.lastmod < '2019-07-01')].shape"
   ]
  },
  {
   "cell_type": "markdown",
   "metadata": {},
   "source": [
    "# Parsing"
   ]
  },
  {
   "cell_type": "code",
   "execution_count": 2,
   "metadata": {},
   "outputs": [
    {
     "data": {
      "text/html": [
       "<div>\n",
       "<style scoped>\n",
       "    .dataframe tbody tr th:only-of-type {\n",
       "        vertical-align: middle;\n",
       "    }\n",
       "\n",
       "    .dataframe tbody tr th {\n",
       "        vertical-align: top;\n",
       "    }\n",
       "\n",
       "    .dataframe thead th {\n",
       "        text-align: right;\n",
       "    }\n",
       "</style>\n",
       "<table border=\"1\" class=\"dataframe\">\n",
       "  <thead>\n",
       "    <tr style=\"text-align: right;\">\n",
       "      <th></th>\n",
       "      <th>lastmod</th>\n",
       "      <th>url</th>\n",
       "    </tr>\n",
       "  </thead>\n",
       "  <tbody>\n",
       "    <tr>\n",
       "      <th>0</th>\n",
       "      <td>2018-01-06T10:05:00Z</td>\n",
       "      <td>https://russian.rt.com/sport/article/467618-sb...</td>\n",
       "    </tr>\n",
       "    <tr>\n",
       "      <th>1</th>\n",
       "      <td>2018-01-15T05:06:00Z</td>\n",
       "      <td>https://russian.rt.com/foto/350493-santa-barba...</td>\n",
       "    </tr>\n",
       "    <tr>\n",
       "      <th>2</th>\n",
       "      <td>2018-12-01T08:15:00Z</td>\n",
       "      <td>https://russian.rt.com/world/article/578178-pr...</td>\n",
       "    </tr>\n",
       "    <tr>\n",
       "      <th>3</th>\n",
       "      <td>2018-02-20T05:48:00Z</td>\n",
       "      <td>https://russian.rt.com/world/foto/361090-churk...</td>\n",
       "    </tr>\n",
       "    <tr>\n",
       "      <th>4</th>\n",
       "      <td>2018-10-26T07:09:00Z</td>\n",
       "      <td>https://russian.rt.com/nopolitics/foto/567698-...</td>\n",
       "    </tr>\n",
       "  </tbody>\n",
       "</table>\n",
       "</div>"
      ],
      "text/plain": [
       "                lastmod                                                url\n",
       "0  2018-01-06T10:05:00Z  https://russian.rt.com/sport/article/467618-sb...\n",
       "1  2018-01-15T05:06:00Z  https://russian.rt.com/foto/350493-santa-barba...\n",
       "2  2018-12-01T08:15:00Z  https://russian.rt.com/world/article/578178-pr...\n",
       "3  2018-02-20T05:48:00Z  https://russian.rt.com/world/foto/361090-churk...\n",
       "4  2018-10-26T07:09:00Z  https://russian.rt.com/nopolitics/foto/567698-..."
      ]
     },
     "execution_count": 2,
     "metadata": {},
     "output_type": "execute_result"
    }
   ],
   "source": [
    "df = pd.read_json('db/news_rt_full_db.json')\n",
    "df.head()"
   ]
  },
  {
   "cell_type": "code",
   "execution_count": 8,
   "metadata": {},
   "outputs": [],
   "source": [
    "def parse_rt_news(text):\n",
    "    soup = BeautifulSoup(text)\n",
    "    news_text_list_first = soup.find_all(name=\"div\", attrs={'class': \"arcticle-content\"})\n",
    "    news_text_list_second = soup.find_all(name=\"div\", attrs={'class': \"js-mediator-article\"})\n",
    "    news_text_list = news_text_list_first if news_text_list_first else (news_text_list_second if news_text_list_second else '')\n",
    "    news_text = ''\n",
    "    \n",
    "    if news_text_list:\n",
    "        for news in news_text_list:\n",
    "            bad = news.find_all(name=['script', 'iframe', 'svg', 'figure'])\n",
    "            if bad:\n",
    "                [tag.decompose() for tag in bad]\n",
    "        \n",
    "            news_text += \" \" + news.get_text(\" \", strip=True)\n",
    "        news_text = re.sub(r'[\\n\\r]+', ' ', news_text).replace(u'\\xa0', u' ')\n",
    "\n",
    "    description_elem = soup.find(name=\"meta\", attrs={'name': \"description\"})\n",
    "    description = re.sub(r'[\\n\\r]+', ' ', description_elem.get('content')).replace(u'\\xa0', u' ') if description_elem else ''\n",
    "    \n",
    "    return news_text, description"
   ]
  },
  {
   "cell_type": "code",
   "execution_count": 9,
   "metadata": {},
   "outputs": [
    {
     "data": {
      "text/plain": [
       "(' Госсекретарь США Майк Помпео в интервью The Wall Street Journal заявил, что Соединённые Штаты должны проявлять гибкость в отношениях с Россией. По его словам, «существует много вещей», в которых США не согласны с Россией. «У нас невероятно разные ценности, но есть и области, где мы находим совпадения», — приводит его слова РИА Новости . Помпео добавил, что задача госсекретаря Соединённых Штатов заключается «в определении тех областей», в которых страны могут работать вместе, «в то же время защищая США от худших действий». Ранее глава российского внешнеполитического ведомства Сергей Лавров заявил, что Россия готова к контактам с США.',\n",
       " 'Помпео рассказал о необходимости проявлять гибкость в отношениях с Россией - Читайте подробнее на сайте РТ на русском.')"
      ]
     },
     "execution_count": 9,
     "metadata": {},
     "output_type": "execute_result"
    }
   ],
   "source": [
    "parse_rt_news(req.get('https://russian.rt.com/world/news/529049-pompeo-rossiya-ssha').text)"
   ]
  }
 ],
 "metadata": {
  "kernelspec": {
   "display_name": "Python 3",
   "language": "python",
   "name": "python3"
  },
  "language_info": {
   "codemirror_mode": {
    "name": "ipython",
    "version": 3
   },
   "file_extension": ".py",
   "mimetype": "text/x-python",
   "name": "python",
   "nbconvert_exporter": "python",
   "pygments_lexer": "ipython3",
   "version": "3.9.0"
  }
 },
 "nbformat": 4,
 "nbformat_minor": 4
}
