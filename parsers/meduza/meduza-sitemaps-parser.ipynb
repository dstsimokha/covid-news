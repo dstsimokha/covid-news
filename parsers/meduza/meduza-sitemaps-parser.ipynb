{
 "cells": [
  {
   "cell_type": "code",
   "execution_count": 1,
   "metadata": {},
   "outputs": [],
   "source": [
    "import pandas as pd\n",
    "import re\n",
    "import json\n",
    "import xml.etree.ElementTree as xet\n",
    "import requests as req\n",
    "import time\n",
    "import glob\n",
    "import csv\n",
    "import regex\n",
    "import tqdm\n",
    "import pytz\n",
    "import gzip\n",
    "import io\n",
    "import numpy as np\n",
    "from bs4 import BeautifulSoup"
   ]
  },
  {
   "cell_type": "code",
   "execution_count": 2,
   "metadata": {},
   "outputs": [],
   "source": [
    "def parse_sitemap(fn):\n",
    "\n",
    "    xml = xet.parse(fn)\n",
    "    xml_root = xml.getroot()\n",
    "    news_list = []\n",
    "    \n",
    "    for news in xml_root:\n",
    "        try:\n",
    "            result = {}\n",
    "            result['url'] = news.find('{http://www.sitemaps.org/schemas/sitemap/0.9}loc').text\n",
    "            lastmod = news.find('{http://www.sitemaps.org/schemas/sitemap/0.9}lastmod')\n",
    "            if lastmod is not None:\n",
    "                result['lastmod'] = lastmod.text\n",
    "\n",
    "            #title = news.find('{http://www.sitemaps.org/schemas/sitemap/0.9}news:title').text\n",
    "            #keywords = news.find('{http://www.sitemaps.org/schemas/sitemap/0.9}news:keywords').text\n",
    "            #news_list.append(dict(zip(['url', 'lastmod'], [url, lastmod])))\n",
    "            news_list.append(result)\n",
    "        except:\n",
    "            continue\n",
    "\n",
    "    return news_list"
   ]
  },
  {
   "cell_type": "code",
   "execution_count": 3,
   "metadata": {},
   "outputs": [
    {
     "data": {
      "text/plain": [
       "[{'url': 'https://meduza.io/sitemap/part_1.xml'},\n",
       " {'url': 'https://meduza.io/sitemap/part_2.xml'},\n",
       " {'url': 'https://meduza.io/sitemap/part_3.xml'},\n",
       " {'url': 'https://meduza.io/sitemap/part_4.xml'},\n",
       " {'url': 'https://meduza.io/sitemap/part_5.xml'},\n",
       " {'url': 'https://meduza.io/sitemap/part_6.xml'},\n",
       " {'url': 'https://meduza.io/sitemap/part_7.xml'},\n",
       " {'url': 'https://meduza.io/sitemap/part_8.xml'},\n",
       " {'url': 'https://meduza.io/sitemap/part_static.xml'}]"
      ]
     },
     "execution_count": 3,
     "metadata": {},
     "output_type": "execute_result"
    }
   ],
   "source": [
    "sitemap_urls = parse_sitemap(io.StringIO(req.get('https://meduza.io/sitemap/full.xml').content.decode()))\n",
    "sitemap_urls"
   ]
  },
  {
   "cell_type": "code",
   "execution_count": 4,
   "metadata": {},
   "outputs": [
    {
     "name": "stderr",
     "output_type": "stream",
     "text": [
      "<ipython-input-4-5701dbbfbec7>:3: TqdmDeprecationWarning: This function will be removed in tqdm==5.0.0\n",
      "Please use `tqdm.notebook.tqdm` instead of `tqdm.tqdm_notebook`\n",
      "  for fn in tqdm.tqdm_notebook(sitemap_urls):\n"
     ]
    },
    {
     "data": {
      "application/vnd.jupyter.widget-view+json": {
       "model_id": "6906bdc304644f9c80dec09747535386",
       "version_major": 2,
       "version_minor": 0
      },
      "text/plain": [
       "HBox(children=(HTML(value=''), FloatProgress(value=0.0, max=9.0), HTML(value='')))"
      ]
     },
     "metadata": {},
     "output_type": "display_data"
    },
    {
     "name": "stdout",
     "output_type": "stream",
     "text": [
      "\n"
     ]
    }
   ],
   "source": [
    "news_db = []\n",
    "\n",
    "for fn in tqdm.tqdm_notebook(sitemap_urls):\n",
    "    s1 = time.time()\n",
    "\n",
    "    try:\n",
    "        text = io.StringIO(req.get(fn['url']).content.decode())\n",
    "        news = parse_sitemap(text)\n",
    "    except Exception as e:\n",
    "        print(e)\n",
    "        continue\n",
    "        \n",
    "    news_db += news\n",
    "    s2 = time.time()\n",
    "    time.sleep(max(1 - s2 + s1, 0))"
   ]
  },
  {
   "cell_type": "code",
   "execution_count": 5,
   "metadata": {},
   "outputs": [
    {
     "data": {
      "text/html": [
       "<div>\n",
       "<style scoped>\n",
       "    .dataframe tbody tr th:only-of-type {\n",
       "        vertical-align: middle;\n",
       "    }\n",
       "\n",
       "    .dataframe tbody tr th {\n",
       "        vertical-align: top;\n",
       "    }\n",
       "\n",
       "    .dataframe thead th {\n",
       "        text-align: right;\n",
       "    }\n",
       "</style>\n",
       "<table border=\"1\" class=\"dataframe\">\n",
       "  <thead>\n",
       "    <tr style=\"text-align: right;\">\n",
       "      <th></th>\n",
       "      <th>url</th>\n",
       "      <th>lastmod</th>\n",
       "    </tr>\n",
       "  </thead>\n",
       "  <tbody>\n",
       "    <tr>\n",
       "      <th>0</th>\n",
       "      <td>https://meduza.io/en/news/2015/09/28/russia-na...</td>\n",
       "      <td>2016-12-10 05:57:25+00:00</td>\n",
       "    </tr>\n",
       "    <tr>\n",
       "      <th>1</th>\n",
       "      <td>https://meduza.io/news/2015/11/19/v-kieve-sove...</td>\n",
       "      <td>2016-12-10 05:57:25+00:00</td>\n",
       "    </tr>\n",
       "    <tr>\n",
       "      <th>2</th>\n",
       "      <td>https://meduza.io/shapito/2016/02/17/avstraliy...</td>\n",
       "      <td>2016-12-10 05:57:26+00:00</td>\n",
       "    </tr>\n",
       "    <tr>\n",
       "      <th>3</th>\n",
       "      <td>https://meduza.io/news/2014/10/30/po-delu-o-kr...</td>\n",
       "      <td>2016-12-10 05:57:26+00:00</td>\n",
       "    </tr>\n",
       "    <tr>\n",
       "      <th>4</th>\n",
       "      <td>https://meduza.io/feature/2015/12/01/rebyata-b...</td>\n",
       "      <td>2016-12-10 05:57:31+00:00</td>\n",
       "    </tr>\n",
       "  </tbody>\n",
       "</table>\n",
       "</div>"
      ],
      "text/plain": [
       "                                                 url                   lastmod\n",
       "0  https://meduza.io/en/news/2015/09/28/russia-na... 2016-12-10 05:57:25+00:00\n",
       "1  https://meduza.io/news/2015/11/19/v-kieve-sove... 2016-12-10 05:57:25+00:00\n",
       "2  https://meduza.io/shapito/2016/02/17/avstraliy... 2016-12-10 05:57:26+00:00\n",
       "3  https://meduza.io/news/2014/10/30/po-delu-o-kr... 2016-12-10 05:57:26+00:00\n",
       "4  https://meduza.io/feature/2015/12/01/rebyata-b... 2016-12-10 05:57:31+00:00"
      ]
     },
     "execution_count": 5,
     "metadata": {},
     "output_type": "execute_result"
    }
   ],
   "source": [
    "df = pd.DataFrame(news_db)\n",
    "df['lastmod'] = pd.to_datetime(df['lastmod'], format='%Y-%m-%dT%H:%M:%S', utc=True)\n",
    "df.head()"
   ]
  },
  {
   "cell_type": "code",
   "execution_count": 6,
   "metadata": {},
   "outputs": [
    {
     "data": {
      "text/plain": [
       "(0, 2)"
      ]
     },
     "execution_count": 6,
     "metadata": {},
     "output_type": "execute_result"
    }
   ],
   "source": [
    "df[(df.lastmod >= '2019-11-01')].to_json('news_meduza.json', date_unit='s', date_format='iso')\n",
    "df[(df.lastmod >= '2019-11-01')].shape\n",
    "#df[(df.lastmod >= '2018-01-01') & (df.lastmod < '2019-07-01')].shape"
   ]
  },
  {
   "cell_type": "markdown",
   "metadata": {},
   "source": [
    "# Parsing"
   ]
  },
  {
   "cell_type": "code",
   "execution_count": 2,
   "metadata": {},
   "outputs": [],
   "source": [
    "df = pd.read_json('db/news_meduza_part.json')"
   ]
  },
  {
   "cell_type": "code",
   "execution_count": 5,
   "metadata": {},
   "outputs": [],
   "source": [
    "def parse_news(text):\n",
    "    soup = BeautifulSoup(text, features='lxml')\n",
    "    news_text_list = soup.find(name=\"div\", attrs={'class': \"GeneralMaterial-article\"})\n",
    "\n",
    "    if news_text_list:\n",
    "        news_text = ''\n",
    "        news_elems = news_text_list.find_all(name='p', attrs={'class': ['SimpleBlock-lead', 'SimpleBlock-p']})\n",
    "        \n",
    "        for news_elem in news_elems:\n",
    "            news_text += news_elem.get_text(\" \", strip=True)\n",
    "        news_text = re.sub(r'[\\n\\r]+', ' ', news_text).replace(u'\\xa0', u' ')\n",
    "    else:\n",
    "        news_text = ''\n",
    "\n",
    "    description_elem = soup.find(name=\"meta\", attrs={'name': \"description\"})\n",
    "    description = re.sub(r'[\\n\\r]+', ' ', description_elem.get('content')).replace(u'\\xa0', u' ') if description_elem else ''\n",
    "    \n",
    "    tags_elem = soup.find(name=\"meta\", attrs={'name': \"keywords\"})\n",
    "    tags = re.sub(r'[\\n\\r]+', ' ', tags_elem.get('content')).replace(u'\\xa0', u' ') if tags_elem else ''\n",
    "    return {\"news_text\": news_text, \"tags\": tags, \"description\": description}"
   ]
  },
  {
   "cell_type": "code",
   "execution_count": 6,
   "metadata": {},
   "outputs": [
    {
     "data": {
      "text/plain": [
       "{'news_text': '4 июня вышел заключительный эпизод сериала «Чернобыль». В финале истории зрители узнают о настоящих причинах взрыва и о том, почему Валерий Легасов совершил самоубийство. «Медуза» рассказывает, что произошло в последней серии и какое самое большое художественное допущение сделали авторы.Серия начинается за 12 часов до взрыва — днем 25 апреля 1986 года Припять живет как обычно: вокруг цветущих клумб бегают дети, взрослые улыбаются друг другу, Людмила Игнатенко выбирает пуговицы в магазине тканей, а ее муж нянчится с соседским ребенком. В это время Анатолий Дятлов идет на станцию — на этот день назначены испытания безопасности реактора, и если все пройдет успешно, повысят всех: и директора станции Виктора Брюханова, и главного инженера станции Николая Фомина, и самого Дятлова. Для испытания нужно понизить мощность — и в эти часы реактор уже работает вполсилы. Но провести испытания днем не получится: Брюханову позвонили из Киева и попросили подождать 10 часов. Дятлов говорит, что это безопасно, и уходит домой поспать.Уже после выступления на конференции МАГАТЭ в Вене Валерий Легасов живет в Москве — это март 1987 года. Легасов пошел на сделку с КГБ и рассказал в Вене официальную версию: реактор взорвался из-за ошибки операторов. Взамен он ждет ремонта всех 16-ти РБМК, работающих в стране. Заместитель начальника 1-го управления КГБ СССР Александр Шарков лично обещает ему звание Героя Советского союза и должность директора Курчатовского института. Но только после суда над Брюхановым, Фоминым и Дятловым.Время идет. У Легасова начинают выпадать волосы. Ульяна Хомюк продолжает настаивать, чтобы он рассказал правду — если не в Вене, то в суде.Суд проходит в Чернобыле. Первым свидетелем выступает Борис Щербина — он объясняет, что в 1983 году Брюханов подписал документ о вводе взорвавшегося реактора в эксплуатацию. Но документ был подделан — испытания не завершили. Была одна проблема: если станцию что-то обесточит, запасные генераторы начнут работать только через минуту — за это время может случиться взрыв. Паузу решили компенсировать энергией от все еще вращающейся турбины. Но может ли это сработать на самом деле? Это Дятлов и проверял — 26 апреля 1986 года была четвертая неудачная попытка этих испытаний.Дежурившие той ночью Топтунов и Акимов никогда не участвовали в таких тестах. «Я должен сделать что-то впервые в жизни и с Дятловым над душой?» — спросил тогда 25-летний Топтунов, работавший на станции всего четыре месяца. Дятлов кричал на операторов и торопил их, на каждое их возражение он угрожал увольнением.В итоге операторы не смогли сохранить баланс реактивности, объяснил Легасов суду. Из-за этого РБМК превратился в раскаленную бомбу. Остановить катастрофу можно было только одним способом — нажать кнопку АЗ-5. По этой команде стержни из бора должны были погрузиться в реактор и остановить процесс. Кнопку нажали, и в этот момент случился взрыв — причиной стали графитовые наконечники стержней. «Но почему?» — спросил судья. «Почему? По той же причине, почему мы единственная нация, которая строит водографитовые реакторы с позитивным пустотным коэффициентом. Так дешевле», — ответил Легасов и признался, что его показания в Вене были ложью. Он сказал, что Дятлов не знал о неисправности реактора и что во всем виновато вранье властей. Однако ученый не увидел поддержки в глазах присяжных.После заседания Легасова отвели в пустой кухонный цех. Через некоторое время туда пришел Шарков. Он сказал, что Легасова не расстреляют: было бы глупо делать это после выступления в Вене. Но глава КГБ пообещал ему одинокую бесславную жизнь без наград, признания и друзей. Легасова посадили в черную «Волгу» и увезли из Чернобыля на глазах его друзей — Ульяны Хомюк и уже сильно больного Бориса Щербины, больше они не увидятся. В эту минуту звучит фраза с легасовской кассеты: «Когда-то цена правды меня пугала. Теперь я спрошу — какова цена лжи?»В финальных титрах — фотографии реальных героев и рассказ о том, что с ними произошло после катастрофы. После самоубийства Легасова о реальных причинах катастрофы узнали все — и реакторы пришлось починить. Некоторые высказывавшиеся против официальной версии ученые (их собирательный образ в сериале — Ульяна Хомюк) попали в тюрьму. Борис Щербина умер в 1990 году. Брюханова, Фомина и Дятлова приговорили к 10 годам исправительных работ. После освобождения Фомин вернулся к работе на атомной электростанции в городе Калинин . Дятлов умер в 1995 году, ему было 64.Это та самая серия-объяснение, которую Крейг Мейзин обещал в прошлом выпуске «The Chernobyl Podcast». Герои буквально на пальцах (цветных карточках, удивительно подробном макете АЭС) объясняют все причины взрыва. Но из этих технических деталей складывается настоящая драма — Джаред Харрис, Стеллан Скарсгард и Эмили Уотсон разыгрывают этот доклад по всем театральным канонам. Вышло напряженно и увлекательно, но не очень правдоподобно — кажется, этот эпизод, в большей степени сконструированный авторами, а не самой историей, можно назвать самым неубедительным.Смутить может не только фигура Микки Мауса во дворе Дома культуры (которая, кстати, вполне настоящая ). Невозможно представить себе и суд присяжных в СССР, и свидетеля Щербину, который заставляет судью дослушать Легасова одной репликой: «Пусть говорит». Наконец, Хомюк, олицетворяющая всех ученых, с которыми Легасов работал на ЧАЭС, — снова призывает его к геройству. Не верится, что в реальности кто-то так настойчиво мог требовать от человека в прямом смысле пойти на смерть.Это серия-прощание. Диалог Легасова и Щербины в перерыве заседания — это признание их дружбы, возможно последней в их жизни. Оказалось, что люди из разных миров (чиновники и ученые) могут вместе сражаться с опасностью. Но проще вырубить все леса, эвакуировать всех людей и доставить в Чернобыль луноходы, чем победить чудище советской лжи — это не под силу ни одному хорошему человеку.В подкасте « The Chernobyl Podcast » создатель шоу Крейг Мейзин рассказал о самом большом художественном допущении в сериале, которого не было в действительности: Легасов и Щербина не были на том суде в Чернобыле и не рассказывали там о недостатках реактора РБМК. «Это огромная драматическая вольность, которую я вынужденно допустил. В суде выступали другие люди, он шел две недели и был скучным», — говорит Мейзин. Однако с самого начала он знал, что в этой серии будет отвечать на главный вопрос сериала и именно здесь герои расскажут, что же произошло той ночью.Обстановку самого суда воссоздали по фотографиям и видео до мелочей: до проводов на полу и разбросанных бумаг. Суд действительно проходил в Чернобыле, в местном доме культуры, а судьи правда сидели на сцене. Речь прокурора (Майкл МакЭлхаттон, которого многие помнят по роли Русе Болтона из «Игры престолов») составили из фрагментов речей Брежнева. «Я просто не верил своим глазам, когда читал тексты, написанные этим языком. Я думал, боже, они действительно говорили, что принципы ленинизма выражают интересы советского народа?» — говорит Мейзин.Презентации с макетом станции, красными и синими карточками — выдумка, это сделали, чтобы объяснить технические детали. «Смешно, что карточки были на кириллице, — все равно никто не понимал, что там», — вспоминает Мейзин. По сути, важно было только то, каких карточек больше — красных или синих. Мейзин сосредоточился на деталях, потому что хотел рассказать правду: «Я ее понял и хотел, чтобы люди поняли ее со мной». Тексты докладов при этом настоящие, говорит автор.Экранизировать выступление Легасова в Вене не стали намеренно. Там не было героизма, объясняет автор, за ученым следили, чтобы он не сбежал за границу. Ему было важно не сболтнуть лишнего — там он рассказал все честно, но умолчал о неисправности реактора. Но даже этого хватило, чтобы западная пресса назвала Легасова первым честным советским ученым. Власти СССР были очень довольны.Мейзин рассказывает, что читал мемуары Дятлова, но считает — его объяснения «не заслуживают доверия»: «Он сосредоточился на недостатках реактора, но не признал, что неправильно им управлял. Он не думал, что это было опасно».',\n",
       " 'tags': 'новости, политика, расследование, репортаж, интервью, реакция, исследование, опрос, тест, президент, приговор, доллар, нефть, экономика, цены, средства, информация, компания, фото, видео, украина, сепаратисты, война, краткий пересказ, бестселлер',\n",
       " 'description': '4 июня вышел заключительный эпизод сериала «Чернобыль». В финале истории зрители узнают о настоящих причинах взрыва и о том, почему Валерий Легасов совершил самоубийство. «Медуза» рассказывает, что произошло в последней серии и какое самое большое художественное допущение сделали авторы.'}"
      ]
     },
     "execution_count": 6,
     "metadata": {},
     "output_type": "execute_result"
    }
   ],
   "source": [
    "parse_news(req.get('https://meduza.io/feature/2019/06/04/chernobyl-5-seriya-kakova-tsena-lzhi').text)"
   ]
  },
  {
   "cell_type": "code",
   "execution_count": 10,
   "metadata": {},
   "outputs": [],
   "source": [
    "for i, item in enumerate(df.iterrows()):\n",
    "\n",
    "    if not df.loc[item[0], 'downloaded']:\n",
    "        \n",
    "        try:\n",
    "            # Processing row from db\n",
    "            url = item[1]['url']\n",
    "            lastmod = item[1]['lastmod']\n",
    "            csv_row = dict(zip(['news_id', 'url', 'lastmod'], [item[0], url, lastmod]))\n",
    "\n",
    "            # Downloading file\n",
    "            start = time.time()\n",
    "            resp = req.get(url)\n",
    "            if resp.status_code == 200:\n",
    "                csv_row['news_text'], csv_row['tags'], csv_row['description'] = parse_rbk_news(resp.text)\n",
    "\n",
    "            # Saving row to csv file\n",
    "            with open('db/news_rbk_part.csv', 'a') as csv_file:\n",
    "                writer = csv.DictWriter(csv_file, csv_row.keys())\n",
    "                writer.writerow(csv_row)\n",
    "\n",
    "            # News is written, logging it to DF\n",
    "            #df.loc[item[0], 'downloaded'] = True\n",
    "            \n",
    "            # Logging to console\n",
    "            if i % 1000 == 0 and i > 0:\n",
    "                #df.to_json('db/news_rbk_part.json')\n",
    "                pass\n",
    "                \n",
    "            if i % 100 == 0 and i > 0:\n",
    "                datetime = time.strftime('%Y-%m-%d %H:%M')\n",
    "                print(datetime, ':', i, 'news downloaded,', int((df.shape[0]-i) * 1.1 / 60 / 60), 'hours remaining')\n",
    "\n",
    "            # Calculating wait time (must be 1 sec minimum)\n",
    "            end = time.time()\n",
    "            wait = max(0, 1.1 - (end - start))\n",
    "            time.sleep(wait)\n",
    "            break\n",
    "        except Exception as e:\n",
    "            #df.to_json('db/news_rbk_part.json')\n",
    "            print(e)\n",
    "            break"
   ]
  },
  {
   "cell_type": "code",
   "execution_count": null,
   "metadata": {},
   "outputs": [],
   "source": []
  }
 ],
 "metadata": {
  "kernelspec": {
   "display_name": "Python 3",
   "language": "python",
   "name": "python3"
  },
  "language_info": {
   "codemirror_mode": {
    "name": "ipython",
    "version": 3
   },
   "file_extension": ".py",
   "mimetype": "text/x-python",
   "name": "python",
   "nbconvert_exporter": "python",
   "pygments_lexer": "ipython3",
   "version": "3.9.0"
  }
 },
 "nbformat": 4,
 "nbformat_minor": 4
}
