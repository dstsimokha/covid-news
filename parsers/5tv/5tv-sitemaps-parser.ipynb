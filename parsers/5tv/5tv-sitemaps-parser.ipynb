{
 "cells": [
  {
   "cell_type": "code",
   "execution_count": 1,
   "metadata": {},
   "outputs": [],
   "source": [
    "import pandas as pd\n",
    "import re\n",
    "import json\n",
    "import xml.etree.ElementTree as xet\n",
    "import requests as req\n",
    "import time\n",
    "import glob\n",
    "import csv\n",
    "import regex\n",
    "import tqdm\n",
    "import pytz\n",
    "import numpy as np\n",
    "from bs4 import BeautifulSoup"
   ]
  },
  {
   "cell_type": "code",
   "execution_count": 3,
   "metadata": {},
   "outputs": [],
   "source": [
    "# min_id = 175660\n",
    "# max_id = 256119\n",
    "# ids = np.arange(min_id, max_id + 1).astype(str)"
   ]
  },
  {
   "cell_type": "code",
   "execution_count": 2,
   "metadata": {},
   "outputs": [],
   "source": [
    "min_id = 269999\n",
    "max_id = 323767\n",
    "ids = np.arange(min_id, max_id + 1).astype(str)"
   ]
  },
  {
   "cell_type": "code",
   "execution_count": 3,
   "metadata": {},
   "outputs": [
    {
     "data": {
      "text/html": [
       "<div>\n",
       "<style scoped>\n",
       "    .dataframe tbody tr th:only-of-type {\n",
       "        vertical-align: middle;\n",
       "    }\n",
       "\n",
       "    .dataframe tbody tr th {\n",
       "        vertical-align: top;\n",
       "    }\n",
       "\n",
       "    .dataframe thead th {\n",
       "        text-align: right;\n",
       "    }\n",
       "</style>\n",
       "<table border=\"1\" class=\"dataframe\">\n",
       "  <thead>\n",
       "    <tr style=\"text-align: right;\">\n",
       "      <th></th>\n",
       "      <th>url</th>\n",
       "    </tr>\n",
       "  </thead>\n",
       "  <tbody>\n",
       "    <tr>\n",
       "      <th>269999</th>\n",
       "      <td>https://www.5-tv.ru/news/269999</td>\n",
       "    </tr>\n",
       "    <tr>\n",
       "      <th>270000</th>\n",
       "      <td>https://www.5-tv.ru/news/270000</td>\n",
       "    </tr>\n",
       "    <tr>\n",
       "      <th>270001</th>\n",
       "      <td>https://www.5-tv.ru/news/270001</td>\n",
       "    </tr>\n",
       "    <tr>\n",
       "      <th>270002</th>\n",
       "      <td>https://www.5-tv.ru/news/270002</td>\n",
       "    </tr>\n",
       "    <tr>\n",
       "      <th>270003</th>\n",
       "      <td>https://www.5-tv.ru/news/270003</td>\n",
       "    </tr>\n",
       "    <tr>\n",
       "      <th>...</th>\n",
       "      <td>...</td>\n",
       "    </tr>\n",
       "    <tr>\n",
       "      <th>323763</th>\n",
       "      <td>https://www.5-tv.ru/news/323763</td>\n",
       "    </tr>\n",
       "    <tr>\n",
       "      <th>323764</th>\n",
       "      <td>https://www.5-tv.ru/news/323764</td>\n",
       "    </tr>\n",
       "    <tr>\n",
       "      <th>323765</th>\n",
       "      <td>https://www.5-tv.ru/news/323765</td>\n",
       "    </tr>\n",
       "    <tr>\n",
       "      <th>323766</th>\n",
       "      <td>https://www.5-tv.ru/news/323766</td>\n",
       "    </tr>\n",
       "    <tr>\n",
       "      <th>323767</th>\n",
       "      <td>https://www.5-tv.ru/news/323767</td>\n",
       "    </tr>\n",
       "  </tbody>\n",
       "</table>\n",
       "<p>53769 rows × 1 columns</p>\n",
       "</div>"
      ],
      "text/plain": [
       "                                    url\n",
       "269999  https://www.5-tv.ru/news/269999\n",
       "270000  https://www.5-tv.ru/news/270000\n",
       "270001  https://www.5-tv.ru/news/270001\n",
       "270002  https://www.5-tv.ru/news/270002\n",
       "270003  https://www.5-tv.ru/news/270003\n",
       "...                                 ...\n",
       "323763  https://www.5-tv.ru/news/323763\n",
       "323764  https://www.5-tv.ru/news/323764\n",
       "323765  https://www.5-tv.ru/news/323765\n",
       "323766  https://www.5-tv.ru/news/323766\n",
       "323767  https://www.5-tv.ru/news/323767\n",
       "\n",
       "[53769 rows x 1 columns]"
      ]
     },
     "execution_count": 3,
     "metadata": {},
     "output_type": "execute_result"
    }
   ],
   "source": [
    "df = pd.DataFrame({'url': np.array(list(map(lambda x: \"https://www.5-tv.ru/news/\" + x, ids)))})\n",
    "df.index = np.arange(min_id, max_id + 1)\n",
    "df.to_json('news_5tv.json')\n",
    "df"
   ]
  },
  {
   "cell_type": "markdown",
   "metadata": {},
   "source": [
    "# Parsing"
   ]
  },
  {
   "cell_type": "code",
   "execution_count": 5,
   "metadata": {},
   "outputs": [],
   "source": [
    "def parse_news(text):\n",
    "    soup = BeautifulSoup(text, features='lxml')\n",
    "    \n",
    "    header = soup.find('p', attrs={'class': 'fsHeader'})\n",
    "    news_text = header.get_text(\" \", strip=True) if header else ''\n",
    "    \n",
    "    news_body = soup.find(name='article', attrs={'class': 'js-mediator-article'})\n",
    "    if news_body:\n",
    "        bad = news_body.find_all(name=['script', 'iframe', 'svg', 'figure'])\n",
    "        if bad:\n",
    "            [tag.decompose() for tag in bad]\n",
    "        \n",
    "        news_ps = news_body.find_all(name=['p', 'li'])\n",
    "        if news_ps:\n",
    "            news_text += \" \" + \" \".join([news_p.get_text(\" \", strip=True) for news_p in news_ps])\n",
    "\n",
    "    news_text = re.sub(r'[\\n\\r]+', ' ', news_text).replace(u'\\xa0', u' ')\n",
    "\n",
    "    lastmod_elem = soup.find(name=\"meta\", attrs={'name': \"mediator_published_time\"})\n",
    "    lastmod = re.sub(r'[\\n\\r]+', ' ', lastmod_elem.get(\"content\")) if lastmod_elem else ''\n",
    "    if lastmod:\n",
    "        lastmod = pd.to_datetime(lastmod, utc=True).strftime(\"%Y-%m-%dT%H:%M:%SZ\")\n",
    "    \n",
    "    tags_elem = soup.find(name=\"meta\", attrs={'name': \"news_keywords\"})\n",
    "    tags = re.sub(r'[\\n\\r]+', ' ', tags_elem.get(\"content\")) if tags_elem else ''\n",
    "    \n",
    "    description_elem = soup.find(name=\"meta\", attrs={'name': \"description\"})\n",
    "    description = re.sub(r'[\\n\\r]+|<[^>]+>', ' ', description_elem.get('content')).replace(u'\\xa0', u'') if description_elem else ''\n",
    "        \n",
    "    return {'lastmod': lastmod, 'news_text': news_text, 'tags': tags, 'description': description}"
   ]
  },
  {
   "cell_type": "code",
   "execution_count": 6,
   "metadata": {},
   "outputs": [
    {
     "data": {
      "text/plain": [
       "'2018-07-27T05:17:00Z'"
      ]
     },
     "execution_count": 6,
     "metadata": {},
     "output_type": "execute_result"
    }
   ],
   "source": [
    "pd.to_datetime('2018-07-27T08:17:00+0300', utc=True).strftime(\"%Y-%m-%dT%H:%M:%SZ\")"
   ]
  },
  {
   "cell_type": "code",
   "execution_count": 7,
   "metadata": {},
   "outputs": [
    {
     "data": {
      "text/plain": [
       "{'lastmod': '2018-07-27T05:17:00Z',\n",
       " 'news_text': ' Международный кубок чемпионов в самом разгаре. В Сингапуре встретились испанцы и англичане. Отыграв основное время вничью, команды выяснили, кто из них сильнее, с помощью пенальти. Пятый канал приводил лучшие моменты матча . Лунное затмение 27 июля 2018 года станет самым длинным в XXI веке. Но вместе с этим россияне смогут увидеть еще одно интереснейшее астрономическое явление — Марс очень сильно приблизится к Земле. Следующего такого случая никто из нас уже не дождется, поскольку это произойдет через 25 миллионов лет. Это явно стоит того, чтобы вооружиться сегодня телескопом или хотя бы биноклем.  Страшная авария произошла в Подмосковье. Огромная фура протаранила сразу шесть автомобилей. ВАЗ-2108 мгновенно загорелся — внутри находились водитель и трое пассажиров. Спасти их не удалось. Но только после того, как ее отец полностью выздоровеет. Об этом она рассказала своей бабушке во время телефонного звонка на родину. Елене Яковлевне Скрипаль исполнилось 90 лет, однако сын не смог самостоятельно поздравить мать — экс-полковник ГРУ по-прежнему не может говорить. Сергей Скрипаль позвонит родным в Россию как только врачи вынут из его горла трахеостому, то есть трубку для дыхания.',\n",
       " 'tags': 'Дмитрий Маликов, Дональд Трамп, Торговля, Европа, Крым, Футбол',\n",
       " 'description': ''}"
      ]
     },
     "execution_count": 7,
     "metadata": {},
     "output_type": "execute_result"
    }
   ],
   "source": [
    "parse_news(req.get('https://www.5-tv.ru/news/213787').content)"
   ]
  }
 ],
 "metadata": {
  "kernelspec": {
   "display_name": "Python 3",
   "language": "python",
   "name": "python3"
  },
  "language_info": {
   "codemirror_mode": {
    "name": "ipython",
    "version": 3
   },
   "file_extension": ".py",
   "mimetype": "text/x-python",
   "name": "python",
   "nbconvert_exporter": "python",
   "pygments_lexer": "ipython3",
   "version": "3.9.0"
  }
 },
 "nbformat": 4,
 "nbformat_minor": 4
}
