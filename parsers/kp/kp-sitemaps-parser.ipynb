{
 "cells": [
  {
   "cell_type": "code",
   "execution_count": 3,
   "metadata": {},
   "outputs": [],
   "source": [
    "import pandas as pd\n",
    "import re\n",
    "import json\n",
    "import xml.etree.ElementTree as xet\n",
    "import requests as req\n",
    "import time\n",
    "import glob\n",
    "import csv\n",
    "import regex\n",
    "import tqdm\n",
    "import pytz\n",
    "import numpy as np\n",
    "from bs4 import BeautifulSoup"
   ]
  },
  {
   "cell_type": "code",
   "execution_count": 4,
   "metadata": {},
   "outputs": [],
   "source": [
    "# min_id = 2979000\n",
    "# max_id = 3524639\n",
    "# ids = np.arange(min_id, max_id + 1).astype(str)"
   ]
  },
  {
   "cell_type": "code",
   "execution_count": 5,
   "metadata": {},
   "outputs": [],
   "source": [
    "min_id = 3658119\n",
    "max_id = 4117093\n",
    "ids = np.arange(min_id, max_id + 1).astype(str)"
   ]
  },
  {
   "cell_type": "code",
   "execution_count": 6,
   "metadata": {},
   "outputs": [
    {
     "data": {
      "text/plain": [
       "(458975, 1)"
      ]
     },
     "execution_count": 6,
     "metadata": {},
     "output_type": "execute_result"
    }
   ],
   "source": [
    "df = pd.DataFrame({'url': np.array(list(map(lambda x: \"https://www.kp.ru/online/news/\" + x + \"/\", ids)))})\n",
    "df.index = np.arange(min_id, max_id + 1)\n",
    "df.to_json('news_kp.json')\n",
    "df.shape"
   ]
  },
  {
   "cell_type": "markdown",
   "metadata": {},
   "source": [
    "# Parsing"
   ]
  },
  {
   "cell_type": "code",
   "execution_count": 15,
   "metadata": {},
   "outputs": [],
   "source": [
    "def parse_news(text):\n",
    "    soup = BeautifulSoup(text, features='lxml')\n",
    "    \n",
    "    news_text = ''\n",
    "    news_body = soup.find(name='div', attrs={'class': 'js-mediator-article'})\n",
    "    \n",
    "    if news_body:\n",
    "        scripts = news_body.find_all(name=['script'])\n",
    "        if scripts:\n",
    "            [script.decompose() for script in scripts]\n",
    "        \n",
    "        news_ps = news_body.find_all(name='p')\n",
    "        if news_ps:\n",
    "            news_text += \" \" + \" \".join([news_p.get_text(\" \", strip=True) for news_p in news_ps])\n",
    "        news_text = re.sub(r'[\\n\\r]+', ' ', news_text)\n",
    "\n",
    "    lastmod_elem = soup.find(name=\"meta\", attrs={'name': \"mediator_published_time\"})\n",
    "    lastmod = re.sub(r'[\\n\\r]+', ' ', lastmod_elem.get(\"content\")) if lastmod_elem else ''\n",
    "    if lastmod:\n",
    "        lastmod = pd.to_datetime(lastmod, utc=True).strftime(\"%Y-%m-%dT%H:%M:%SZ\")\n",
    "    \n",
    "    tags_elem = soup.find(name=\"meta\", attrs={'name': \"keywords\"})\n",
    "    tags = re.sub(r'[\\n\\r]+', ' ', tags_elem.get(\"content\")) if tags_elem else ''\n",
    "    \n",
    "    description_elem = soup.find(name=\"meta\", attrs={'name': \"description\"})\n",
    "    description = re.sub(r'[\\n\\r]+|<[^>]+>', ' ', description_elem.get('content')) if description_elem else ''\n",
    "        \n",
    "    return {'lastmod': lastmod, 'news_text': news_text, 'tags': tags, 'description': description}"
   ]
  },
  {
   "cell_type": "code",
   "execution_count": 23,
   "metadata": {},
   "outputs": [
    {
     "data": {
      "text/plain": [
       "'https://www.kp.ru/online/news/2979000/'"
      ]
     },
     "execution_count": 23,
     "metadata": {},
     "output_type": "execute_result"
    }
   ],
   "source": [
    "df.iloc[0].url"
   ]
  },
  {
   "cell_type": "code",
   "execution_count": 24,
   "metadata": {},
   "outputs": [
    {
     "data": {
      "text/plain": [
       "{'lastmod': '2017-12-30T17:15:31+0300',\n",
       " 'news_text': '  Мэр Сергей Иванов и председатель городского Совета депутатов Игорь Тиньков поздравили жителей Липецка в Новым годом и Рождеством. – Провожать 2017-ый немного грустно: год был непростым, но интересным, насыщенным яркими событиями, – говорится в поздравлении, – нам удалось немало сделать для развития Липецка. И, конечно, все перемены к лучшему стали возможными благодаря активному участию в судьбе родного города его жителей, за что огромное спасибо землякам. Первые лица города рассказали о том, что удалось сделать в уходящем году: масштабный ремонт дорог, обновление пассажирского транспорта, строительство домов и школ, благоустройство улиц и парков, и многое другое. «Новогодние праздники всегда проникнуты атмосферой добра и тепла, ожиданием чуда. Позвольте от всего сердца пожелать вам и вашим близким здоровья, любви, счастья, много солнечных дней! Пусть исполнится все задуманное, все ваши самые заветные желания! С праздниками, дорогие липчане, с Новым 2018 годом!» ИСТОЧНИК KP.RU',\n",
       " 'tags': 'год, липецк, житель, иванов, город, новое, поздравление, желание, земляк, лицо, чудо, развитие, обновление, событие, день, тепло, здоровье, липчанин, строительство, школа',\n",
       " 'description': 'Мэр и спикер горсовета поздравили жителей города с Новым годом и Рождеством'}"
      ]
     },
     "execution_count": 24,
     "metadata": {},
     "output_type": "execute_result"
    }
   ],
   "source": [
    "parse_news(req.get(df.iloc[0].url).content)"
   ]
  },
  {
   "cell_type": "code",
   "execution_count": null,
   "metadata": {},
   "outputs": [],
   "source": []
  }
 ],
 "metadata": {
  "kernelspec": {
   "display_name": "Python 3",
   "language": "python",
   "name": "python3"
  },
  "language_info": {
   "codemirror_mode": {
    "name": "ipython",
    "version": 3
   },
   "file_extension": ".py",
   "mimetype": "text/x-python",
   "name": "python",
   "nbconvert_exporter": "python",
   "pygments_lexer": "ipython3",
   "version": "3.9.0"
  }
 },
 "nbformat": 4,
 "nbformat_minor": 4
}
