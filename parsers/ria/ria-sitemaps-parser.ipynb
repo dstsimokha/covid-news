{
 "cells": [
  {
   "cell_type": "code",
   "execution_count": 1,
   "metadata": {},
   "outputs": [],
   "source": [
    "import pandas as pd\n",
    "import re\n",
    "import json\n",
    "import xml.etree.ElementTree as xet\n",
    "import requests as req\n",
    "import time\n",
    "import glob\n",
    "import csv\n",
    "import regex\n",
    "import io\n",
    "import tqdm\n",
    "from bs4 import BeautifulSoup"
   ]
  },
  {
   "cell_type": "code",
   "execution_count": 2,
   "metadata": {},
   "outputs": [],
   "source": [
    "def parse_sitemap(fn):\n",
    "\n",
    "    xml = xet.parse(fn)\n",
    "    xml_root = xml.getroot()\n",
    "    news_list = []\n",
    "    \n",
    "    for news in xml_root:\n",
    "        try:\n",
    "            result = {}\n",
    "            result['url'] = news.find('{http://www.sitemaps.org/schemas/sitemap/0.9}loc').text\n",
    "            lastmod = news.find('{http://www.sitemaps.org/schemas/sitemap/0.9}lastmod')\n",
    "            if lastmod is not None:\n",
    "                result['lastmod'] = lastmod.text\n",
    "\n",
    "            #title = news.find('{http://www.sitemaps.org/schemas/sitemap/0.9}news:title').text\n",
    "            #keywords = news.find('{http://www.sitemaps.org/schemas/sitemap/0.9}news:keywords').text\n",
    "            #news_list.append(dict(zip(['url', 'lastmod'], [url, lastmod])))\n",
    "            news_list.append(result)\n",
    "        except:\n",
    "            continue\n",
    "\n",
    "    return news_list"
   ]
  },
  {
   "cell_type": "code",
   "execution_count": 3,
   "metadata": {},
   "outputs": [],
   "source": [
    "sitemaps = parse_sitemap(io.StringIO(req.get('https://ria.ru/sitemap_article_index.xml').content.decode()))\n",
    "sitemaps_filtered = []\n",
    "for sitemap in sitemaps:\n",
    "    if re.search(r'2020|2019', sitemap['lastmod']):\n",
    "        sitemaps_filtered.append(sitemap)"
   ]
  },
  {
   "cell_type": "code",
   "execution_count": 4,
   "metadata": {},
   "outputs": [
    {
     "name": "stderr",
     "output_type": "stream",
     "text": [
      "<ipython-input-4-73c316e576b5>:3: TqdmDeprecationWarning: This function will be removed in tqdm==5.0.0\n",
      "Please use `tqdm.notebook.tqdm` instead of `tqdm.tqdm_notebook`\n",
      "  for fn in tqdm.tqdm_notebook(sitemaps_filtered):\n"
     ]
    },
    {
     "data": {
      "application/vnd.jupyter.widget-view+json": {
       "model_id": "a81874b663b24921b3c205a30a17bc43",
       "version_major": 2,
       "version_minor": 0
      },
      "text/plain": [
       "HBox(children=(HTML(value=''), FloatProgress(value=0.0, max=24.0), HTML(value='')))"
      ]
     },
     "metadata": {},
     "output_type": "display_data"
    },
    {
     "name": "stdout",
     "output_type": "stream",
     "text": [
      "\n"
     ]
    }
   ],
   "source": [
    "news_db = []\n",
    "\n",
    "for fn in tqdm.tqdm_notebook(sitemaps_filtered):\n",
    "    s1 = time.time()\n",
    "\n",
    "    try:\n",
    "        text = io.StringIO(req.get(fn['url']).content.decode())\n",
    "        news = parse_sitemap(text)\n",
    "    except Exception as e:\n",
    "        print(e)\n",
    "        continue\n",
    "        \n",
    "    news_db += news\n",
    "    s2 = time.time()\n",
    "    time.sleep(max(1 - s2 + s1, 0))"
   ]
  },
  {
   "cell_type": "code",
   "execution_count": 5,
   "metadata": {},
   "outputs": [
    {
     "data": {
      "text/html": [
       "<div>\n",
       "<style scoped>\n",
       "    .dataframe tbody tr th:only-of-type {\n",
       "        vertical-align: middle;\n",
       "    }\n",
       "\n",
       "    .dataframe tbody tr th {\n",
       "        vertical-align: top;\n",
       "    }\n",
       "\n",
       "    .dataframe thead th {\n",
       "        text-align: right;\n",
       "    }\n",
       "</style>\n",
       "<table border=\"1\" class=\"dataframe\">\n",
       "  <thead>\n",
       "    <tr style=\"text-align: right;\">\n",
       "      <th></th>\n",
       "      <th>url</th>\n",
       "      <th>lastmod</th>\n",
       "    </tr>\n",
       "  </thead>\n",
       "  <tbody>\n",
       "    <tr>\n",
       "      <th>0</th>\n",
       "      <td>https://ria.ru/20201213/vzaimoposch-1589022219...</td>\n",
       "      <td>2020-12-13 15:57:36+00:00</td>\n",
       "    </tr>\n",
       "    <tr>\n",
       "      <th>1</th>\n",
       "      <td>https://ria.ru/20201213/tramp-1589022094.html</td>\n",
       "      <td>2020-12-13 16:03:03+00:00</td>\n",
       "    </tr>\n",
       "    <tr>\n",
       "      <th>2</th>\n",
       "      <td>https://ria.ru/20201213/karabakh-1589021479.html</td>\n",
       "      <td>2020-12-13 15:45:06+00:00</td>\n",
       "    </tr>\n",
       "    <tr>\n",
       "      <th>3</th>\n",
       "      <td>https://ria.ru/20201213/khoroshevtsev-15890170...</td>\n",
       "      <td>2020-12-13 14:50:21+00:00</td>\n",
       "    </tr>\n",
       "    <tr>\n",
       "      <th>4</th>\n",
       "      <td>https://ria.ru/20201213/moskva-1589016818.html</td>\n",
       "      <td>2020-12-13 14:50:24+00:00</td>\n",
       "    </tr>\n",
       "  </tbody>\n",
       "</table>\n",
       "</div>"
      ],
      "text/plain": [
       "                                                 url                   lastmod\n",
       "0  https://ria.ru/20201213/vzaimoposch-1589022219... 2020-12-13 15:57:36+00:00\n",
       "1      https://ria.ru/20201213/tramp-1589022094.html 2020-12-13 16:03:03+00:00\n",
       "2   https://ria.ru/20201213/karabakh-1589021479.html 2020-12-13 15:45:06+00:00\n",
       "3  https://ria.ru/20201213/khoroshevtsev-15890170... 2020-12-13 14:50:21+00:00\n",
       "4     https://ria.ru/20201213/moskva-1589016818.html 2020-12-13 14:50:24+00:00"
      ]
     },
     "execution_count": 5,
     "metadata": {},
     "output_type": "execute_result"
    }
   ],
   "source": [
    "df = pd.DataFrame(news_db)\n",
    "df['lastmod'] = pd.to_datetime(df['lastmod'], format='%Y-%m-%dT%H:%M:%S', utc=True)\n",
    "df.head()"
   ]
  },
  {
   "cell_type": "code",
   "execution_count": 6,
   "metadata": {},
   "outputs": [
    {
     "data": {
      "text/plain": [
       "(254131, 2)"
      ]
     },
     "execution_count": 6,
     "metadata": {},
     "output_type": "execute_result"
    }
   ],
   "source": [
    "df[(df.lastmod >= '2019-11-01')].to_json('news_ria.json', date_unit='s', date_format='iso')\n",
    "df[(df.lastmod >= '2019-11-01')].shape\n",
    "#df[(df.lastmod >= '2018-01-01') & (df.lastmod < '2019-07-01')].shape"
   ]
  },
  {
   "cell_type": "markdown",
   "metadata": {},
   "source": [
    "# Parsing"
   ]
  },
  {
   "cell_type": "code",
   "execution_count": 129,
   "metadata": {},
   "outputs": [],
   "source": [
    "def parse_ria_news(url):\n",
    "    soup = BeautifulSoup(req.get(url).content, features='lxml')\n",
    "    news_text_list = soup.find_all(name=\"div\", attrs={'class': \"article__text\"})\n",
    "\n",
    "    if news_text_list:\n",
    "        news_text = ''\n",
    "        for news in news_text_list:\n",
    "            news_text += \" \" + news.get_text(strip=True)\n",
    "    else:\n",
    "        news_text = ''\n",
    "\n",
    "    tags_elem = soup.find(name=\"meta\", attrs={'name': \"analytics:tags\"})\n",
    "    tags = re.sub(r'[\\n\\r]+', ' ', tags_elem.get('content') or '').replace(u'\\xa0', u' ') if tags_elem else ''\n",
    "    \n",
    "    title_elem = soup.find(name=\"meta\", attrs={'name': \"analytics:title\"})\n",
    "    title = re.sub(r'[\\n\\r]+', ' ', title_elem.get('content') or '').replace(u'\\xa0', u' ') if title_elem else ''\n",
    "\n",
    "    return {'news_text': news_text, 'tags': tags, 'title': title}"
   ]
  }
 ],
 "metadata": {
  "kernelspec": {
   "display_name": "Python 3",
   "language": "python",
   "name": "python3"
  },
  "language_info": {
   "codemirror_mode": {
    "name": "ipython",
    "version": 3
   },
   "file_extension": ".py",
   "mimetype": "text/x-python",
   "name": "python",
   "nbconvert_exporter": "python",
   "pygments_lexer": "ipython3",
   "version": "3.9.0"
  }
 },
 "nbformat": 4,
 "nbformat_minor": 4
}
