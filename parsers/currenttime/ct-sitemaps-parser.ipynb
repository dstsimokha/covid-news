{
 "cells": [
  {
   "cell_type": "code",
   "execution_count": 1,
   "metadata": {},
   "outputs": [],
   "source": [
    "import pandas as pd\n",
    "import re\n",
    "import json\n",
    "import xml.etree.ElementTree as xet\n",
    "import requests as req\n",
    "import time\n",
    "import glob\n",
    "import csv\n",
    "import regex\n",
    "import tqdm\n",
    "import pytz\n",
    "import numpy as np\n",
    "import io\n",
    "import gzip\n",
    "from bs4 import BeautifulSoup"
   ]
  },
  {
   "cell_type": "code",
   "execution_count": 2,
   "metadata": {},
   "outputs": [],
   "source": [
    "def parse_sitemap(fn):\n",
    "\n",
    "    xml = xet.parse(fn)\n",
    "    xml_root = xml.getroot()\n",
    "    news_list = []\n",
    "    \n",
    "    for news in xml_root:\n",
    "        try:\n",
    "            result = {}\n",
    "            result['url'] = news.find('{http://www.sitemaps.org/schemas/sitemap/0.9}loc').text\n",
    "            lastmod = news.find('{http://www.sitemaps.org/schemas/sitemap/0.9}lastmod')\n",
    "            if lastmod is not None:\n",
    "                result['lastmod'] = lastmod.text\n",
    "\n",
    "            #title = news.find('{http://www.sitemaps.org/schemas/sitemap/0.9}news:title').text\n",
    "            #keywords = news.find('{http://www.sitemaps.org/schemas/sitemap/0.9}news:keywords').text\n",
    "            #news_list.append(dict(zip(['url', 'lastmod'], [url, lastmod])))\n",
    "            news_list.append(result)\n",
    "        except:\n",
    "            continue\n",
    "\n",
    "    return news_list"
   ]
  },
  {
   "cell_type": "code",
   "execution_count": 3,
   "metadata": {},
   "outputs": [
    {
     "data": {
      "text/plain": [
       "[{'url': 'https://www.currenttime.tv/sitemap_54_1.xml.gz',\n",
       "  'lastmod': '2020-12-13T02:14:17.8897107Z'},\n",
       " {'url': 'https://www.currenttime.tv/sitemap_54_2.xml.gz',\n",
       "  'lastmod': '2020-12-13T02:14:20.7274475Z'},\n",
       " {'url': 'https://www.currenttime.tv/sitemap_54_latest.xml.gz'},\n",
       " {'url': 'https://www.currenttime.tv/sitemap_54_news.xml.gz'},\n",
       " {'url': 'https://www.currenttime.tv/sitemap_54_sections.xml.gz'},\n",
       " {'url': 'https://www.currenttime.tv/sitemap_54_videos.xml.gz'}]"
      ]
     },
     "execution_count": 3,
     "metadata": {},
     "output_type": "execute_result"
    }
   ],
   "source": [
    "sitemap_urls = parse_sitemap(io.StringIO(req.get('https://www.currenttime.tv/sitemap.xml').content.decode()))\n",
    "sitemap_urls"
   ]
  },
  {
   "cell_type": "code",
   "execution_count": 4,
   "metadata": {},
   "outputs": [
    {
     "name": "stderr",
     "output_type": "stream",
     "text": [
      "100%|██████████| 6/6 [00:05<00:00,  1.18it/s]\n"
     ]
    }
   ],
   "source": [
    "news_db = []\n",
    "\n",
    "for fn in tqdm.tqdm(sitemap_urls):\n",
    "    try:\n",
    "        with gzip.open(io.BytesIO(req.get(fn['url']).content)) as f:\n",
    "            sitemap = io.StringIO(f.read().decode())\n",
    "        news = parse_sitemap(sitemap)\n",
    "    except Exception as e:\n",
    "        print(e)\n",
    "        continue\n",
    "    news_db = news_db + news"
   ]
  },
  {
   "cell_type": "code",
   "execution_count": 5,
   "metadata": {},
   "outputs": [
    {
     "data": {
      "text/html": [
       "<div>\n",
       "<style scoped>\n",
       "    .dataframe tbody tr th:only-of-type {\n",
       "        vertical-align: middle;\n",
       "    }\n",
       "\n",
       "    .dataframe tbody tr th {\n",
       "        vertical-align: top;\n",
       "    }\n",
       "\n",
       "    .dataframe thead th {\n",
       "        text-align: right;\n",
       "    }\n",
       "</style>\n",
       "<table border=\"1\" class=\"dataframe\">\n",
       "  <thead>\n",
       "    <tr style=\"text-align: right;\">\n",
       "      <th></th>\n",
       "      <th>url</th>\n",
       "      <th>lastmod</th>\n",
       "    </tr>\n",
       "  </thead>\n",
       "  <tbody>\n",
       "    <tr>\n",
       "      <th>0</th>\n",
       "      <td>https://www.currenttime.tv/a/glavnoe-chto-ih-n...</td>\n",
       "      <td>2020-12-12 16:10:08+00:00</td>\n",
       "    </tr>\n",
       "    <tr>\n",
       "      <th>1</th>\n",
       "      <td>https://www.currenttime.tv/a/subbotnie-gulyani...</td>\n",
       "      <td>2020-12-12 13:08:30+00:00</td>\n",
       "    </tr>\n",
       "    <tr>\n",
       "      <th>2</th>\n",
       "      <td>https://www.currenttime.tv/a/30997271.html</td>\n",
       "      <td>2020-12-12 11:19:01+00:00</td>\n",
       "    </tr>\n",
       "    <tr>\n",
       "      <th>3</th>\n",
       "      <td>https://www.currenttime.tv/a/verkhovny-sud-ssh...</td>\n",
       "      <td>2020-12-12 10:28:25+00:00</td>\n",
       "    </tr>\n",
       "    <tr>\n",
       "      <th>4</th>\n",
       "      <td>https://www.currenttime.tv/a/umer-valentin-gaf...</td>\n",
       "      <td>2020-12-12 09:25:34+00:00</td>\n",
       "    </tr>\n",
       "  </tbody>\n",
       "</table>\n",
       "</div>"
      ],
      "text/plain": [
       "                                                 url                   lastmod\n",
       "0  https://www.currenttime.tv/a/glavnoe-chto-ih-n... 2020-12-12 16:10:08+00:00\n",
       "1  https://www.currenttime.tv/a/subbotnie-gulyani... 2020-12-12 13:08:30+00:00\n",
       "2         https://www.currenttime.tv/a/30997271.html 2020-12-12 11:19:01+00:00\n",
       "3  https://www.currenttime.tv/a/verkhovny-sud-ssh... 2020-12-12 10:28:25+00:00\n",
       "4  https://www.currenttime.tv/a/umer-valentin-gaf... 2020-12-12 09:25:34+00:00"
      ]
     },
     "execution_count": 5,
     "metadata": {},
     "output_type": "execute_result"
    }
   ],
   "source": [
    "df = pd.DataFrame(news_db)\n",
    "df['lastmod'] = pd.to_datetime(df['lastmod'], format='%Y-%m-%dT%H:%M:%S', utc=True).dt.round('1s')\n",
    "df.head()"
   ]
  },
  {
   "cell_type": "code",
   "execution_count": 7,
   "metadata": {},
   "outputs": [
    {
     "data": {
      "text/plain": [
       "(8852, 2)"
      ]
     },
     "execution_count": 7,
     "metadata": {},
     "output_type": "execute_result"
    }
   ],
   "source": [
    "df[(df.lastmod >= '2019-11-01')].to_json('news_currenttime.json', date_format='iso', date_unit='s')\n",
    "df[(df.lastmod >= '2019-11-01')].shape"
   ]
  },
  {
   "cell_type": "markdown",
   "metadata": {},
   "source": [
    "# Parsing"
   ]
  },
  {
   "cell_type": "code",
   "execution_count": 17,
   "metadata": {},
   "outputs": [],
   "source": [
    "def parse_news(text):\n",
    "    soup = BeautifulSoup(text, features='lxml')\n",
    "    news_page = soup.find(name=\"div\", attrs={'id': \"article-content\"})\n",
    "    news_text = ''\n",
    "    \n",
    "    if news_page:\n",
    "        bad = news_page.find_all(name=['script', 'iframe', 'svg', 'figure'])\n",
    "        if bad:\n",
    "            [tag.decompose() for tag in bad]\n",
    "            \n",
    "        news_elems = news_page.find_all(name=['p', 'li', 'dl'])\n",
    "        for news_elem in news_elems:\n",
    "            news_text += \" \" + news_elem.get_text(\" \", strip=True)\n",
    "        news_text = re.sub(r'[\\n\\r]+', ' ', news_text).replace(u'\\xa0', u' ').replace(u'\\u200b', u' ')\n",
    "\n",
    "    description_elem = soup.find(name=\"meta\", attrs={'name': \"description\"})\n",
    "    description = re.sub(r'[\\n\\r]+', ' ', description_elem.get('content')).replace(u'\\xa0', u' ') if description_elem else ''\n",
    "    \n",
    "    tags_elem = soup.find(name=\"meta\", attrs={'name': \"keywords\"})\n",
    "    tags = re.sub(r'[\\n\\r]+', ' ', tags_elem.get('content')).replace(u'\\xa0', u' ') if tags_elem else ''\n",
    "    \n",
    "    return {'news_text': news_text, 'tags': tags, 'description': description}"
   ]
  },
  {
   "cell_type": "code",
   "execution_count": 18,
   "metadata": {},
   "outputs": [
    {
     "data": {
      "text/plain": [
       "{'news_text': ' Жители Чукотки традиционно добывают для своего пропитания китов, моржей, нерпу и рыбу. Рыболовство и китобойный промысел на крайнем севере –  занятие рискованное и опасное. Почти каждый год кто-нибудь из рыбаков не возвращается домой с промысла. А с тех пор как российское законодательство начало регулировать добычу водных биоресурсов, выживать коренным народам Севера стало еще труднее. Сибирь.Реалии рассказывают историю села, где квоты на ловлю рыбы стал вопросом выживания. До 2015 года жители Чукотки занимались добычей рыбы и морских млекопитающих без ограничений. Летом добывали китовое и моржовое мясо, а также ловили впрок рыбу, чтобы запасов хватало на всю долгую полярную зиму. Рыбу местные жители замораживают, солят и коптят для себя, икру засаливают и продают, чтобы покупать в магазинах продукты, о стоимости которых говорят с возмущением. Булка хлеба здесь стоит 75 рублей, яйца – 365 рублей за десяток, а в некоторых селах – вообще по 700 рублей за десяток. Говорят, что картошку завезли золотую видимо – по 500 рублей за килограмм. \"Самолетом завезли, вот вам и цены. И опять же о нас, простых жителях, забыли, просто забыли выдать квоту на село\", – поясняет Зинаида Мынейпыльгина, всю свою жизнь занимавшаяся ловлей рыбы и разделыванием моржа. С 2015 года изменения российского законодательства коснулись и жителей Чукотского округа, которые теперь должны оформлять квоту на добычу водных биоресурсов. По словам жителей Нового Чаплино, комплект документов на получение квоты был направлен ими еще в прошлом году в Отдел государственного контроля, надзора, охраны водных биологических ресурсов и регулирования рыболовства по Чукотскому автономному округу. Но недавно выяснилось, что указанные заявки в начале 2019 года были возвращены уполномоченному главы Провиденского городского округа в селе Новое Чаплино без объяснения причин.  \"Видно, правительство Чукотки о нас совсем не думает. Им-то \"наверху\", наверное, все равно – зарплаты бешеные. А обязанности свои не выполняют. У меня вопрос к Копину (губернатор Чукотского автономного округа). Роман Валентинович, как можно забыть о квотах для населения? Почему вы так с нами обращаетесь? Я не знаю, чем нам питаться, святым духом, что ли? Или мне с вашего кошелька деньги на питание брать?\" – возмущается одна из жительниц села, попросившая не называть ее имени. Местный рыболов Александр Гыдгыросхин рассказывает, что как только лед сходит с воды, все коренное население начинает рыбалку – готовится к зиме, запасается рыбой: охотники мясо китовое привозят, моржовое тоже. \"Большую часть питания круглогодично составляет то, что мы сами себе добываем. Продукты в магазинах \"золотые\", цены космические. Зарплаты маленькие. Нам остается питаться тем, что мы сами себе добудем. Вот вам вопрос: что нам делать? Нас даже квоты на рыбу лишили. Мне чем детей кормить?\", – возмущается Александр. Он говорит, что в принципе не понимает, что это за квоты. \"Это унизительно для людей, которые жили на Чукотке в отдаленных селах из поколения в поколение. Коренные жители испокон веков занимались добычей еды самостоятельно. Это наш основной рацион, совершенно для нас необходимый. Организм коренных жителей должен получать все те витамины, к которым привык издавна\", – говорит рыболов.  На официальном сайте Северо-Восточного территориальное управления Федерального агентства по Рыболовству (СВТУ ФАР) сообщается, что в нынешнем году агентство рассмотрело 151 заявку \"на согласование хозяйственной деятельности\" (то есть лов рыбы) и отказало 49 заявителям по причине \"несоответствия заявок требованиям законодательства в области рыболовства и сохранения водных биологических ресурсов\". На канцелярском языке чиновников из агентства выдача разрешения на лов рыбы называется \"услугой\". Но чтобы ее получить, надо проделать большую бумажную работу по оформлению заявки. Если она предоставлена \"не по установленной форме\", то заявителю отказывают. Кроме того, на сайте агентства перечислено еще семь пунктов, по которым чиновники могут отказать в предоставлении рыболовных квот. Например, \"представление в заявке, поданной по форме и документе, предусмотренном подпунктом \"г\" пункта 20 Регламента, недостоверной информации\". Неудивительно, что треть заявителей не смогли пройти квест, устроенный для чукотских рыбаков сотрудниками СВТУ ФАР. Чтобы добиться положительного результата, коренному населению явно нужен переводчик с юридическим образованием и опытом делопроизводства. К сожалению, в правительстве Чукотки таких специалистов очень мало. \"Cкорее всего, жители Нового Чаплина получат новый отказ и будут вынуждены нарушать закон, за что будут привлекаться к административной ответственности. Выхода из этого порочного круга я не вижу\", – прокомментировала ситуацию Любовь Таян, представитель Ассоциации коренных малочисленных народов Чукотки и общественной организации эскимосов \"Инуитский приполярный совет Чукотки. Она рассказывает, что в связи с бездействием правительства Чукотки, в организации подготовили официальные обращения к руководству Федерального агентства по рыболовству с просьбой о включении данных заявок в квоту на 2019 год, но надежд на решение проблемы мало. \"Это не первый случай, когда нарушаются наши права на добычу водных биоресурсов, – говорит Игорь Макотрик, председатель совета общин коренных малочисленных народов Севера \"Чаплино\". – Позиция правительства не совсем понятна. Целый населенный пункт остается без квоты, что нам делать? Конечно, мы сделаем все возможное, чтобы восстановить свои права\".  Удивительно, что угроза рыбного голода возникла накануне путины – сезона, в течение которого проводится интенсивный лов рыбы. В этом году, судя по всем прогнозам, этот сезон обещает быть изобильным. Проведя мониторинг тихоокеанских лососей, специалисты Чукотского филиала Всероссийского НИИ рыбного хозяйства и океанографии предложили увеличить вылов красной рыбы (горбуши и кеты) в пять раз. \"Кета порадовала рыбаков Чукотки\", – сообщается на официальном сайте ТИНРО (Тихоокеанский научно-исследовательский рыбохозяйственный центр. –  С.Р). Но не все так просто. Прежде чем порадоваться изобилию кеты, чукотские рыбаки должны получить от властей одобрение своей заявки. А чиновники в ответ на все письма из Нового Чаплина молчат, как рыбы.',\n",
       " 'tags': 'Настоящее Время',\n",
       " 'description': '\"Я не знаю, чем нам питаться, святым духом, что ли? Или мне из вашего кошелька деньги на питание брать?\" – возмущается одна из жительниц Нового Чаплина'}"
      ]
     },
     "execution_count": 18,
     "metadata": {},
     "output_type": "execute_result"
    }
   ],
   "source": [
    "parse_news(req.get(df.iloc[1000]['url']).text)"
   ]
  },
  {
   "cell_type": "code",
   "execution_count": 28,
   "metadata": {},
   "outputs": [
    {
     "data": {
      "text/plain": [
       "'2019-06-08 13:20:00'"
      ]
     },
     "execution_count": 28,
     "metadata": {},
     "output_type": "execute_result"
    }
   ],
   "source": [
    "import pandas as pd\n",
    "pd.to_datetime(pd.Series(1560000000), unit='s').dt.strftime(\"%Y-%m-%d %H:%M:%S\").item()"
   ]
  }
 ],
 "metadata": {
  "kernelspec": {
   "display_name": "Python 3",
   "language": "python",
   "name": "python3"
  },
  "language_info": {
   "codemirror_mode": {
    "name": "ipython",
    "version": 3
   },
   "file_extension": ".py",
   "mimetype": "text/x-python",
   "name": "python",
   "nbconvert_exporter": "python",
   "pygments_lexer": "ipython3",
   "version": "3.9.0"
  }
 },
 "nbformat": 4,
 "nbformat_minor": 4
}
